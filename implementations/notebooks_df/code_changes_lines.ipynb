{
 "cells": [
  {
   "cell_type": "markdown",
   "metadata": {},
   "source": [
    "## Code_Changes_Lines\n",
    "This is the reference implementation for [Code_Changes_Lines](https://github.com/chaoss/wg-evolution/blob/master/metrics/Code_Changes_Lines.md),\n",
    "a metric specified by the\n",
    "[Evolution Working Group](https://github.com/chaoss/wg-evolution) of the\n",
    "[CHAOSS project](https://chaoss.community).\n",
    "\n",
    "Have a look at [README.md](../README.md) to find out how to run this notebook (and others in this directory) as well as to get a better understanding of the purpose of the implementations.\n",
    "\n",
    "The implementation is described in two parts (see below):\n",
    "\n",
    "* Class for computing Code_Changes_Lines\n",
    "* An explanatory analysis of the class' functionality\n",
    "\n",
    "Some more auxiliary information in this notebook:\n",
    "\n",
    "* Examples of the use of the implementation"
   ]
  },
  {
   "cell_type": "markdown",
   "metadata": {},
   "source": [
    "As discussed in the [README](../README.md) file, the scripts required to analyze the data fetched by Perceval are located in the `code_df` package. Due to python's import system, to import modules from a package which is not in the current directory, we have to either add the package to `PYTHONPATH` or simply append a `..` to `sys.path`, so that `code_df` can be successfully imported. "
   ]
  },
  {
   "cell_type": "code",
   "execution_count": 1,
   "metadata": {},
   "outputs": [],
   "source": [
    "from datetime import datetime\n",
    "import matplotlib.pyplot as plt\n",
    "import sys\n",
    "sys.path.append('..')\n",
    "from code_df import utils\n",
    "from code_df import conditions\n",
    "from code_df.commit import Commit\n",
    "%matplotlib inline"
   ]
  },
  {
   "cell_type": "code",
   "execution_count": 2,
   "metadata": {},
   "outputs": [],
   "source": [
    "class CodeChangesLines(Commit):\n",
    "    \"\"\"\n",
    "    Class for Code_Changes_Lines\n",
    "    \"\"\"\n",
    "\n",
    "\n",
    "    def _flatten(self, item):\n",
    "        \"\"\"\n",
    "        Flatten a raw commit fetched by Perceval into a flat dictionary.\n",
    "\n",
    "        A list with a single flat directory will be returned.\n",
    "        That dictionary will have the elements we need for computing metrics.\n",
    "        The list may be empty, if for some reason the commit should not\n",
    "        be considered.\n",
    "\n",
    "        :param item: raw item fetched by Perceval (dictionary)\n",
    "        :returns:    list of a single flat dictionary\n",
    "        \"\"\"\n",
    "\n",
    "        creation_date = utils.str_to_date(item['data']['AuthorDate'])\n",
    "        if self.since and (self.since > creation_date):\n",
    "            return []\n",
    "\n",
    "        if self.until and (self.until < creation_date):\n",
    "            return []\n",
    "\n",
    "        code_files = [file['file'] for file in item['data']['files'] if\n",
    "                      all(condition.check(file['file'])\n",
    "                          for condition in self.is_code)]\n",
    "\n",
    "        if len(code_files) > 0:\n",
    "            flat = {\n",
    "                'repo': item['origin'],\n",
    "                'hash': item['data']['commit'],\n",
    "                'author': item['data']['Author'],\n",
    "                'category': \"commit\",\n",
    "                'created_date': creation_date,\n",
    "                'committer': item['data']['Commit'],\n",
    "                'commit_date': utils.str_to_date(item['data']['CommitDate']),\n",
    "                'files_no': len(item['data']['files']),\n",
    "                'refs': item['data']['refs'],\n",
    "                'parents': item['data']['parents'],\n",
    "                'files': item['data']['files']\n",
    "            }\n",
    "\n",
    "            # actions\n",
    "            actions = 0\n",
    "            for file in item['data']['files']:\n",
    "                if 'action' in file:\n",
    "                    actions += 1\n",
    "            flat['files_action'] = actions\n",
    "\n",
    "            # Merge commit check\n",
    "            if 'Merge' in item['data']:\n",
    "                flat['merge'] = True\n",
    "            else:\n",
    "                flat['merge'] = False\n",
    "\n",
    "            # modifications\n",
    "            modified_lines = 0\n",
    "            for file in item['data']['files']:\n",
    "                if 'added' and 'removed' in file:\n",
    "                    try:\n",
    "                        modified_lines += int(file['added']) + int(file['removed'])\n",
    "\n",
    "                    except ValueError:\n",
    "                        # in case of compressed files,\n",
    "                        # additions and deletions are \"-\"\n",
    "                        pass\n",
    "\n",
    "            flat['modifications'] = modified_lines\n",
    "\n",
    "            return [flat]\n",
    "        else:\n",
    "            return []\n",
    "\n",
    "    def compute(self):\n",
    "        \"\"\"\n",
    "        Compute the number of lines modified in the data fetched\n",
    "        by Perceval.\n",
    "\n",
    "        It computes the sum of the 'modifications' column\n",
    "        in the DataFrame.\n",
    "\n",
    "        :returns modifications_count: The total number of\n",
    "            lines modified (int)\n",
    "        \"\"\"\n",
    "\n",
    "        df = self.df\n",
    "        modifications_count = df['modifications'].sum()\n",
    "\n",
    "        return modifications_count\n",
    "\n",
    "    def _agg(self, df, period):\n",
    "        \"\"\"\n",
    "        Perform an aggregation operation on a DataFrame or Series\n",
    "        to find the total number of lines modified in a every interval\n",
    "        of the period specified in the time_series method, like\n",
    "        'M', 'W',etc.\n",
    "\n",
    "        It adds the number of lines modified for every row in the\n",
    "        series.\n",
    "\n",
    "        :param df: a pandas DataFrame on which the aggregation will be\n",
    "            applied.\n",
    "\n",
    "        :param period: A string which can be any one of the pandas time\n",
    "            series rules:\n",
    "            'W': week\n",
    "            'M': month\n",
    "            'D': day\n",
    "\n",
    "        :returns df: The aggregated dataframe, where aggregations have\n",
    "            been performed on the \"modifications\"\n",
    "        \"\"\"\n",
    "\n",
    "        df = df.resample(period)['modifications'].agg(['sum'])\n",
    "\n",
    "        return df"
   ]
  },
  {
   "cell_type": "markdown",
   "metadata": {},
   "source": [
    "## Performing the Analysis\n",
    "Using the above class, we can perform several kinds of analysis on the JSON data file, fetched by Perceval. \n",
    "For starters, we can perform a simple calculation of the number of modified lines (additions plus deletions) in the file. To make things simple, we will use the `Naive` implementation for deciding whether a given commit affects the source code or not. Again, the naive implementation assumes that all files are part of the source code, and hence, all commits are considered to affect it. The `Naive` implementation is the default option. "
   ]
  },
  {
   "cell_type": "markdown",
   "metadata": {},
   "source": [
    "### Counting the total number of modified lines \n",
    "We first read the JSON file containing Perceval data using the `read_json_file` utility function. "
   ]
  },
  {
   "cell_type": "code",
   "execution_count": 3,
   "metadata": {},
   "outputs": [],
   "source": [
    "items = utils.read_json_file('../git-commits.json')"
   ]
  },
  {
   "cell_type": "markdown",
   "metadata": {},
   "source": [
    "Let's use the `compute` method to count the total number of lines modified after instantiating the above class.\n",
    "\n",
    "Notice that here, we are redefining the `_flatten` method of the `Commit` class, the parent of the `CodeChangesLines` class. The reason for doing this is to add a `modifications` column to the dataframe. This makes it easier to compute this metric.\n",
    "\n",
    "First, we will do the computation without passing any since and until dates. Next, we can pass in the start and end dates as a tuple. The format would be `%Y-%m-%d`."
   ]
  },
  {
   "cell_type": "code",
   "execution_count": 4,
   "metadata": {},
   "outputs": [
    {
     "name": "stdout",
     "output_type": "stream",
     "text": [
      "The total number of modified lines in the file is 563670.\n",
      "The total number of lines modified between 2018-01-01 and 2018-07-01 is 192972.\n"
     ]
    }
   ],
   "source": [
    "changes = CodeChangesLines(items)\n",
    "print(\"The total number of modified lines \"\n",
    "      \"in the file is {}.\".format(changes.compute()))\n",
    "\n",
    "date_since = datetime.strptime(\"2018-01-01\", \"%Y-%m-%d\")\n",
    "date_until = datetime.strptime(\"2018-07-01\", \"%Y-%m-%d\")    \n",
    "\n",
    "changes_dated = CodeChangesLines(items,\n",
    "                        date_range=(date_since, date_until))\n",
    "                        \n",
    "print(\"The total number of lines modified between \"\n",
    "      \"2018-01-01 and 2018-07-01 is {}.\".format(changes_dated.compute()))"
   ]
  },
  {
   "cell_type": "markdown",
   "metadata": {},
   "source": [
    "### Counting the total number of lines modified by commits excluding merge commits\n",
    "Moving on, lets make use of the `EmptyExclude` and `MergeExclude` classes to filter out empty and merge commits respectively. These classes are sub-classes of the `Commit` class in the `conditions` module. They provide two methods: `check()` and `set_commits`.\n",
    "\n",
    "The `set_commits` method selects commits which satisfy a given condition (like excluding empty commits, for example) and stores the hashes of those commits in the set `included`, an instance variable of all `Commit` classes. \n",
    "\n",
    "The `check()` method checks each commit in the DataFrame created from Perceval data and drops those rows which correspond to commits not in `included`. "
   ]
  },
  {
   "cell_type": "code",
   "execution_count": 5,
   "metadata": {},
   "outputs": [
    {
     "name": "stdout",
     "output_type": "stream",
     "text": [
      "The total number of lines modified by non-merge commits between 2018-01-01 and 2018-07-01 is 94047.\n"
     ]
    }
   ],
   "source": [
    "changes_non_merge = CodeChangesLines(items, \n",
    "                                  (date_since, date_until),\n",
    "                                  conds=[conditions.MergeExclude()])\n",
    "print(\"The total number of lines modified by non-merge commits between\"\n",
    "      \" 2018-01-01 and 2018-07-01 is {}.\".format(changes_non_merge.compute()))"
   ]
  },
  {
   "cell_type": "markdown",
   "metadata": {},
   "source": [
    "## Counting the number of lines modified over regular time intervals\n",
    "Using the `time_series` method, it is possible to compute the number of lines modified every month, or every week. This kind of analysis is useful in finding trends over time, as we will see in the cell below.\n",
    "\n",
    "Let's perform a basic analysis: lets see the change in the number of lines modified between the same dates we used above on a weekly basis: 2018-01-01 and 2018-07-01. \n",
    "The Code_Changes_Lines object, `changes_dated`, will be the same as used above."
   ]
  },
  {
   "cell_type": "code",
   "execution_count": 6,
   "metadata": {},
   "outputs": [],
   "source": [
    "weekly_df = changes_dated.time_series(period='W')"
   ]
  },
  {
   "cell_type": "markdown",
   "metadata": {},
   "source": [
    "Lets see what the dataframe returned by `time_series` looks like. As you will notice, the dataframe has rows corresponding to each and every week between the start and end dates. To do this, we simply set the `created_date` column of the DataFrame `changes_dated.df`, as its index and then `resample` it to whatever time period we need. In this case, we have used `W`. We will apply the 'sum' aggregation function on both the 'additions' and 'deletions' columns of the dataframe."
   ]
  },
  {
   "cell_type": "code",
   "execution_count": 11,
   "metadata": {},
   "outputs": [
    {
     "data": {
      "text/html": [
       "<div>\n",
       "<style scoped>\n",
       "    .dataframe tbody tr th:only-of-type {\n",
       "        vertical-align: middle;\n",
       "    }\n",
       "\n",
       "    .dataframe tbody tr th {\n",
       "        vertical-align: top;\n",
       "    }\n",
       "\n",
       "    .dataframe thead th {\n",
       "        text-align: right;\n",
       "    }\n",
       "</style>\n",
       "<table border=\"1\" class=\"dataframe\">\n",
       "  <thead>\n",
       "    <tr style=\"text-align: right;\">\n",
       "      <th></th>\n",
       "      <th>sum</th>\n",
       "    </tr>\n",
       "    <tr>\n",
       "      <th>created_date</th>\n",
       "      <th></th>\n",
       "    </tr>\n",
       "  </thead>\n",
       "  <tbody>\n",
       "    <tr>\n",
       "      <th>2018-01-07</th>\n",
       "      <td>110</td>\n",
       "    </tr>\n",
       "    <tr>\n",
       "      <th>2018-01-14</th>\n",
       "      <td>348</td>\n",
       "    </tr>\n",
       "    <tr>\n",
       "      <th>2018-01-21</th>\n",
       "      <td>7847</td>\n",
       "    </tr>\n",
       "    <tr>\n",
       "      <th>2018-01-28</th>\n",
       "      <td>8118</td>\n",
       "    </tr>\n",
       "    <tr>\n",
       "      <th>2018-02-04</th>\n",
       "      <td>3953</td>\n",
       "    </tr>\n",
       "    <tr>\n",
       "      <th>2018-02-11</th>\n",
       "      <td>1751</td>\n",
       "    </tr>\n",
       "    <tr>\n",
       "      <th>2018-02-18</th>\n",
       "      <td>5775</td>\n",
       "    </tr>\n",
       "    <tr>\n",
       "      <th>2018-02-25</th>\n",
       "      <td>436</td>\n",
       "    </tr>\n",
       "    <tr>\n",
       "      <th>2018-03-04</th>\n",
       "      <td>2840</td>\n",
       "    </tr>\n",
       "    <tr>\n",
       "      <th>2018-03-11</th>\n",
       "      <td>88992</td>\n",
       "    </tr>\n",
       "    <tr>\n",
       "      <th>2018-03-18</th>\n",
       "      <td>1771</td>\n",
       "    </tr>\n",
       "    <tr>\n",
       "      <th>2018-03-25</th>\n",
       "      <td>4788</td>\n",
       "    </tr>\n",
       "    <tr>\n",
       "      <th>2018-04-01</th>\n",
       "      <td>125</td>\n",
       "    </tr>\n",
       "    <tr>\n",
       "      <th>2018-04-08</th>\n",
       "      <td>1120</td>\n",
       "    </tr>\n",
       "    <tr>\n",
       "      <th>2018-04-15</th>\n",
       "      <td>1035</td>\n",
       "    </tr>\n",
       "    <tr>\n",
       "      <th>2018-04-22</th>\n",
       "      <td>18</td>\n",
       "    </tr>\n",
       "    <tr>\n",
       "      <th>2018-04-29</th>\n",
       "      <td>1199</td>\n",
       "    </tr>\n",
       "    <tr>\n",
       "      <th>2018-05-06</th>\n",
       "      <td>1199</td>\n",
       "    </tr>\n",
       "    <tr>\n",
       "      <th>2018-05-13</th>\n",
       "      <td>126</td>\n",
       "    </tr>\n",
       "    <tr>\n",
       "      <th>2018-05-20</th>\n",
       "      <td>20</td>\n",
       "    </tr>\n",
       "    <tr>\n",
       "      <th>2018-05-27</th>\n",
       "      <td>32</td>\n",
       "    </tr>\n",
       "    <tr>\n",
       "      <th>2018-06-03</th>\n",
       "      <td>178</td>\n",
       "    </tr>\n",
       "    <tr>\n",
       "      <th>2018-06-10</th>\n",
       "      <td>21353</td>\n",
       "    </tr>\n",
       "    <tr>\n",
       "      <th>2018-06-17</th>\n",
       "      <td>4248</td>\n",
       "    </tr>\n",
       "    <tr>\n",
       "      <th>2018-06-24</th>\n",
       "      <td>34482</td>\n",
       "    </tr>\n",
       "    <tr>\n",
       "      <th>2018-07-01</th>\n",
       "      <td>1108</td>\n",
       "    </tr>\n",
       "  </tbody>\n",
       "</table>\n",
       "</div>"
      ],
      "text/plain": [
       "                sum\n",
       "created_date       \n",
       "2018-01-07      110\n",
       "2018-01-14      348\n",
       "2018-01-21     7847\n",
       "2018-01-28     8118\n",
       "2018-02-04     3953\n",
       "2018-02-11     1751\n",
       "2018-02-18     5775\n",
       "2018-02-25      436\n",
       "2018-03-04     2840\n",
       "2018-03-11    88992\n",
       "2018-03-18     1771\n",
       "2018-03-25     4788\n",
       "2018-04-01      125\n",
       "2018-04-08     1120\n",
       "2018-04-15     1035\n",
       "2018-04-22       18\n",
       "2018-04-29     1199\n",
       "2018-05-06     1199\n",
       "2018-05-13      126\n",
       "2018-05-20       20\n",
       "2018-05-27       32\n",
       "2018-06-03      178\n",
       "2018-06-10    21353\n",
       "2018-06-17     4248\n",
       "2018-06-24    34482\n",
       "2018-07-01     1108"
      ]
     },
     "execution_count": 11,
     "metadata": {},
     "output_type": "execute_result"
    }
   ],
   "source": [
    "weekly_df"
   ]
  },
  {
   "cell_type": "markdown",
   "metadata": {},
   "source": [
    "Lets plot the dataframe `weekly_df` using matplotlib.pyplot. We use the `seaborn` theme and plot a simple line plot --- lines modified vs time interval. Using the `plt.fill_between` method allows us to \"fill up\" the area between the line plots and the x axis."
   ]
  },
  {
   "cell_type": "code",
   "execution_count": 12,
   "metadata": {},
   "outputs": [
    {
     "data": {
      "image/png": "[encoded data removed]",
      "text/plain": [
       "<Figure size 1080x360 with 1 Axes>"
      ]
     },
     "metadata": {},
     "output_type": "display_data"
    }
   ],
   "source": [
    "plt.figure(figsize=[15, 5])\n",
    "plt.style.use('seaborn')\n",
    "plt.plot(weekly_df['sum'])\n",
    "\n",
    "\n",
    "plt.fill_between(y1=weekly_df['sum'], y2=0, x=weekly_df.index)\n",
    "plt.title(\"Lines modified\");\n",
    "plt.show()"
   ]
  },
  {
   "cell_type": "markdown",
   "metadata": {},
   "source": [
    "The same thing can be tried for months, instead of weeks. By passing `month` in place of week, we get a similar dataframe but with only a few rows, due to the larger timescale. "
   ]
  },
  {
   "cell_type": "markdown",
   "metadata": {},
   "source": [
    "## Counting line modifications by commits only made on the master branch\n",
    "Another option one has while using this class for analyzing git commit data is to include only those commits for analysis which are on the master branch. To do this, we pass in an object of the `MasterInclude` class as a list to the `conds` parameter while instantiating the `CodeChangesGit` class.\n",
    "\n",
    "We compute the number of commits created on the master branch after `2018-01-01`, which we stored in the `datetime` object, `date_since`. "
   ]
  },
  {
   "cell_type": "code",
   "execution_count": 13,
   "metadata": {},
   "outputs": [
    {
     "name": "stdout",
     "output_type": "stream",
     "text": [
      "The total number of lines modified (additions, deletions) by commits made on the master branch after 2018-01-01 is 215191.\n"
     ]
    }
   ],
   "source": [
    "changes_only_master = CodeChangesLines(items,\n",
    "                                    date_range=(date_since, None),\n",
    "                                    conds=[conditions.MasterInclude()])\n",
    "\n",
    "print(\"The total number of lines modified (additions, deletions) by commits made on the master branch \"\n",
    "      \"after 2018-01-01 is {}.\".format(changes_only_master.compute()))"
   ]
  },
  {
   "cell_type": "markdown",
   "metadata": {},
   "source": [
    "Lets do one last thing: the same thing we did in the cell above, but without including empty commits. In this case, we would also need to pass a `conditions.ExcludeEmpty` object to `conds`. \n",
    "\n",
    "Also, lets exclude those commits which work solely on `markdown` files. We use the `PostfixExclude` class, a sub-class of `Code` for this."
   ]
  },
  {
   "cell_type": "code",
   "execution_count": 14,
   "metadata": {},
   "outputs": [
    {
     "name": "stdout",
     "output_type": "stream",
     "text": [
      "The total number of lines modified by non-empty commits made on the master branch is: 9226\n"
     ]
    }
   ],
   "source": [
    "changes_non_empty_master = CodeChangesLines(items,\n",
    "                                          is_code=[conditions.PostfixExclude(postfixes=['.md'])],\n",
    "                                          conds=[conditions.MasterInclude(), conditions.EmptyExclude()])\n",
    "\n",
    "print(\"The total number of lines modified by non-empty commits made on the master branch is: {}\".format(changes_non_empty_master.compute()))"
   ]
  },
  {
   "cell_type": "code",
   "execution_count": null,
   "metadata": {},
   "outputs": [],
   "source": []
  }
 ],
 "metadata": {
  "kernelspec": {
   "display_name": "Python 3",
   "language": "python",
   "name": "python3"
  },
  "language_info": {
   "codemirror_mode": {
    "name": "ipython",
    "version": 3
   },
   "file_extension": ".py",
   "mimetype": "text/x-python",
   "name": "python",
   "nbconvert_exporter": "python",
   "pygments_lexer": "ipython3",
   "version": "3.6.8"
  }
 },
 "nbformat": 4,
 "nbformat_minor": 2
}
