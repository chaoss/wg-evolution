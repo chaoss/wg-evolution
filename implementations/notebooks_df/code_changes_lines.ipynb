{
 "cells": [
  {
   "cell_type": "markdown",
   "metadata": {},
   "source": [
    "## Code_Changes_Lines\n",
    "This is the reference implementation for [Code_Changes_Lines](https://github.com/chaoss/wg-evolution/blob/master/metrics/Code_Changes_Lines.md),\n",
    "a metric specified by the\n",
    "[Evolution Working Group](https://github.com/chaoss/wg-evolution) of the\n",
    "[CHAOSS project](https://chaoss.community).\n",
    "\n",
    "Have a look at [README.md](../README.md) to find out how to run this notebook (and others in this directory) as well as to get a better understanding of the purpose of the implementations.\n",
    "\n",
    "The implementation is described in two parts (see below):\n",
    "\n",
    "* Class for computing Code_Changes_Lines\n",
    "* An explanatory analysis of the class' functionality\n",
    "\n",
    "Some more auxiliary information in this notebook:\n",
    "\n",
    "* Examples of the use of the implementation"
   ]
  },
  {
   "cell_type": "markdown",
   "metadata": {},
   "source": [
    "As discussed in the [README](../README.md) file, the scripts required to analyze the data fetched by Perceval are located in the `code_df` package. Due to python's import system, to import modules from a package which is not in the current directory, we have to either add the package to `PYTHONPATH` or simply append a `..` to `sys.path`, so that `code_df` can be successfully imported. "
   ]
  },
  {
   "cell_type": "code",
   "execution_count": 1,
   "metadata": {},
   "outputs": [],
   "source": [
    "from datetime import datetime\n",
    "import matplotlib.pyplot as plt\n",
    "import sys\n",
    "sys.path.append('..')\n",
    "from code_df import utils\n",
    "from code_df import conditions\n",
    "from code_df.commit import Commit\n",
    "%matplotlib inline"
   ]
  },
  {
   "cell_type": "code",
   "execution_count": 2,
   "metadata": {},
   "outputs": [],
   "source": [
    "class CodeChangesLines(Commit):\n",
    "    \"\"\"Class for Code_Changes for Git repositories.\n",
    "\n",
    "    :param items: A list of dictionaries, each element a line from the\n",
    "        JSON file with Perceval data\n",
    "\n",
    "    :param date_range: A tuple which represents the start and end date of\n",
    "        interest\n",
    "\n",
    "    :param is_code:  list of CodeCondition objects\n",
    "        It is used to determine what comprises source code.\n",
    "\n",
    "    :param conds: A list of Commit objects. It is used to\n",
    "        exclude or include different kinds of commits, like\n",
    "        empty or merge commits, or commits made on the master\n",
    "        branch.\n",
    "    \"\"\"\n",
    "\n",
    "    def __init__(self, items, date_range=(None, None), is_code=[conditions.Naive()],\n",
    "                 conds=[]):\n",
    "        super().__init__(items, date_range, is_code, conds)\n",
    "\n",
    "        self.df = self._add_lines_modified_cols(self.df)\n",
    "\n",
    "    def compute(self):\n",
    "        \"\"\"\n",
    "        Count number of commits of different types, like including empty commits\n",
    "        or counting only those commits made on the master branch.\n",
    "\n",
    "        :returns modified: A tuple representing the number of lines\n",
    "            modified. modified -> (additions, deletions)\n",
    "        \"\"\"\n",
    "\n",
    "        df = self.df\n",
    "        additions = df['additions'].sum()\n",
    "        deletions = df['deletions'].sum()\n",
    "\n",
    "        modified = (additions, deletions)\n",
    "\n",
    "        return modified\n",
    "\n",
    "    def _agg(self, df, period):\n",
    "        \"\"\"\n",
    "        Perform an aggregation operation on a DataFrame or Series\n",
    "        to find the total number of lines modified in a every interval\n",
    "        of the period specified in the time_series method, like\n",
    "        'M', 'W',etc.\n",
    "\n",
    "        It adds the number of lines modified for every row in the\n",
    "        series.\n",
    "\n",
    "        :param df: a pandas DataFrame on which the aggregation will be\n",
    "            applied.\n",
    "\n",
    "        :param period: A string which can be any one of the pandas time\n",
    "            series rules:\n",
    "            'W': week\n",
    "            'M': month\n",
    "            'D': day\n",
    "\n",
    "        :returns df: The aggregated dataframe, where aggregations have\n",
    "            been perform on \"additions\" and \"deletions\" columns\n",
    "        \"\"\"\n",
    "\n",
    "        df = df.resample(period).agg({\"additions\": 'sum', \"deletions\": 'sum'})\n",
    "\n",
    "        return df\n",
    "\n",
    "    def _add_lines_modified_cols(self, df):\n",
    "\n",
    "        if len(df) == 0:\n",
    "            raise ValueError(\"DataFrame empty. \"\n",
    "                             \"Please check instantiation parameters\")\n",
    "\n",
    "        additions = list()\n",
    "        deletions = list()\n",
    "        for _, commit in df.iterrows():\n",
    "            added_lines = 0\n",
    "            removed_lines = 0\n",
    "            for file in commit['files']:\n",
    "                if 'action' in file:\n",
    "                    try:\n",
    "                        added_lines += int(file['added'])\n",
    "                        removed_lines += int(file['removed'])\n",
    "                    except:\n",
    "                        pass\n",
    "\n",
    "            additions.append(added_lines)\n",
    "            deletions.append(removed_lines)\n",
    "\n",
    "        df['additions'] = additions\n",
    "        df['deletions'] = deletions\n",
    "\n",
    "        return df"
   ]
  },
  {
   "cell_type": "markdown",
   "metadata": {},
   "source": [
    "## Performing the Analysis\n",
    "Using the above class, we can perform several kinds of analysis on the JSON data file, fetched by Perceval. \n",
    "For starters, we can perform a simple calculation of the number of modified lines (additions and deletions) in the file. To make things simple, we will use the `Naive` implementation for deciding whether a given commit affects the source code or not. Again, the naive implementation assumes that all files are part of the source code, and hence, all commits are considered to affect it. The `Naive` implementation is the default option. "
   ]
  },
  {
   "cell_type": "markdown",
   "metadata": {},
   "source": [
    "### Counting the total number of modified lines \n",
    "We first read the JSON file containing Perceval data using the `read_json_file` utility function. "
   ]
  },
  {
   "cell_type": "code",
   "execution_count": 3,
   "metadata": {},
   "outputs": [],
   "source": [
    "items = utils.read_json_file('../git-commits.json')"
   ]
  },
  {
   "cell_type": "markdown",
   "metadata": {},
   "source": [
    "Let's use the `compute` method to count the total number of lines modified. First, we will do it without passing any since and until dates. \n",
    "Next, we can pass in the start and end dates as a tuple. The format would be `%Y-%m-%d`."
   ]
  },
  {
   "cell_type": "code",
   "execution_count": 4,
   "metadata": {},
   "outputs": [
    {
     "name": "stdout",
     "output_type": "stream",
     "text": [
      "The total number of modified lines (additions, deletions) in the file is (254408, 98416).\n",
      "The total number of lines modified (additions, deletions) between 2018-01-01 and 2018-07-01 is (64874, 29173).\n"
     ]
    }
   ],
   "source": [
    "changes = CodeChangesLines(items)\n",
    "print(\"The total number of modified lines (additions, deletions) \"\n",
    "      \"in the file is {}.\".format(changes.compute()))\n",
    "\n",
    "date_since = datetime.strptime(\"2018-01-01\", \"%Y-%m-%d\")\n",
    "date_until = datetime.strptime(\"2018-07-01\", \"%Y-%m-%d\")    \n",
    "\n",
    "changes_dated = CodeChangesLines(items,\n",
    "                        date_range=(date_since, date_until))\n",
    "                        \n",
    "print(\"The total number of lines modified (additions, deletions) between \"\n",
    "      \"2018-01-01 and 2018-07-01 is {}.\".format(changes_dated.compute()))"
   ]
  },
  {
   "cell_type": "markdown",
   "metadata": {},
   "source": [
    "### Counting the total number of lines modified by commits excluding merge commits\n",
    "Moving on, lets make use of the `EmptyExclude` and `MergeExclude` classes to filter out empty and merge commits respectively. These classes are sub-classes of the `Commit` class in the `conditions` module. They provide two methods: `check()` and `set_commits`.\n",
    "\n",
    "The `set_commits` method selects commits which satisfy a given condition (like excluding empty commits, for example) and stores the hashes of those commits in the set `included`, an instance variable of all `Commit` classes. \n",
    "\n",
    "The `check()` method checks each commit in the DataFrame created from Perceval data and drops those rows which correspond to commits not in `included`. "
   ]
  },
  {
   "cell_type": "code",
   "execution_count": 5,
   "metadata": {},
   "outputs": [
    {
     "name": "stdout",
     "output_type": "stream",
     "text": [
      "The total number of lines modified (additions, deletions) by non-merge commits between 2018-01-01 and 2018-07-01 is (64874, 29173).\n"
     ]
    }
   ],
   "source": [
    "changes_non_merge = CodeChangesLines(items, \n",
    "                                  (date_since, date_until),\n",
    "                                  conds=[conditions.MergeExclude()])\n",
    "print(\"The total number of lines modified (additions, deletions) by non-merge commits between\"\n",
    "      \" 2018-01-01 and 2018-07-01 is {}.\".format(changes_non_merge.compute()))"
   ]
  },
  {
   "cell_type": "markdown",
   "metadata": {},
   "source": [
    "## Counting the number of lines modified over regular time intervals\n",
    "Using the `time_series` method, it is possible to compute the number of lines modified every month, or every week. This kind of analysis is useful in finding trends over time, as we will see in the cell below.\n",
    "\n",
    "Let's perform a basic analysis: lets see the change in the number of lines modified between the same dates we used above on a weekly basis: 2018-01-01 and 2018-07-01. \n",
    "The Code_CHhanges_Lines object, `changes_dated`, will be the same as used above."
   ]
  },
  {
   "cell_type": "code",
   "execution_count": 6,
   "metadata": {},
   "outputs": [],
   "source": [
    "weekly_df = changes_dated.time_series(period='W')"
   ]
  },
  {
   "cell_type": "markdown",
   "metadata": {},
   "source": [
    "Lets see what the dataframe returned by `time_series` looks like. As you will notice, the dataframe has rows corresponding to each and every week between the start and end dates. To do this, we simply set the `created_date` column of the DataFrame `changes_dated.df`, as its index and then `resample` it to whatever time period we need. In this case, we have used `W`. We will apply the 'sum' aggregation function on both the 'additions' and 'deletions' columns of the dataframe."
   ]
  },
  {
   "cell_type": "code",
   "execution_count": 7,
   "metadata": {},
   "outputs": [
    {
     "data": {
      "text/html": [
       "<div>\n",
       "<style scoped>\n",
       "    .dataframe tbody tr th:only-of-type {\n",
       "        vertical-align: middle;\n",
       "    }\n",
       "\n",
       "    .dataframe tbody tr th {\n",
       "        vertical-align: top;\n",
       "    }\n",
       "\n",
       "    .dataframe thead th {\n",
       "        text-align: right;\n",
       "    }\n",
       "</style>\n",
       "<table border=\"1\" class=\"dataframe\">\n",
       "  <thead>\n",
       "    <tr style=\"text-align: right;\">\n",
       "      <th></th>\n",
       "      <th>additions</th>\n",
       "      <th>deletions</th>\n",
       "    </tr>\n",
       "    <tr>\n",
       "      <th>created_date</th>\n",
       "      <th></th>\n",
       "      <th></th>\n",
       "    </tr>\n",
       "  </thead>\n",
       "  <tbody>\n",
       "    <tr>\n",
       "      <th>2018-01-07</th>\n",
       "      <td>50</td>\n",
       "      <td>5</td>\n",
       "    </tr>\n",
       "    <tr>\n",
       "      <th>2018-01-14</th>\n",
       "      <td>118</td>\n",
       "      <td>57</td>\n",
       "    </tr>\n",
       "    <tr>\n",
       "      <th>2018-01-21</th>\n",
       "      <td>3363</td>\n",
       "      <td>3479</td>\n",
       "    </tr>\n",
       "    <tr>\n",
       "      <th>2018-01-28</th>\n",
       "      <td>1025</td>\n",
       "      <td>518</td>\n",
       "    </tr>\n",
       "    <tr>\n",
       "      <th>2018-02-04</th>\n",
       "      <td>684</td>\n",
       "      <td>100</td>\n",
       "    </tr>\n",
       "    <tr>\n",
       "      <th>2018-02-11</th>\n",
       "      <td>647</td>\n",
       "      <td>174</td>\n",
       "    </tr>\n",
       "    <tr>\n",
       "      <th>2018-02-18</th>\n",
       "      <td>415</td>\n",
       "      <td>2494</td>\n",
       "    </tr>\n",
       "    <tr>\n",
       "      <th>2018-02-25</th>\n",
       "      <td>194</td>\n",
       "      <td>20</td>\n",
       "    </tr>\n",
       "    <tr>\n",
       "      <th>2018-03-04</th>\n",
       "      <td>2050</td>\n",
       "      <td>272</td>\n",
       "    </tr>\n",
       "    <tr>\n",
       "      <th>2018-03-11</th>\n",
       "      <td>25883</td>\n",
       "      <td>17750</td>\n",
       "    </tr>\n",
       "    <tr>\n",
       "      <th>2018-03-18</th>\n",
       "      <td>791</td>\n",
       "      <td>134</td>\n",
       "    </tr>\n",
       "    <tr>\n",
       "      <th>2018-03-25</th>\n",
       "      <td>232</td>\n",
       "      <td>24</td>\n",
       "    </tr>\n",
       "    <tr>\n",
       "      <th>2018-04-01</th>\n",
       "      <td>1</td>\n",
       "      <td>1</td>\n",
       "    </tr>\n",
       "    <tr>\n",
       "      <th>2018-04-08</th>\n",
       "      <td>506</td>\n",
       "      <td>69</td>\n",
       "    </tr>\n",
       "    <tr>\n",
       "      <th>2018-04-15</th>\n",
       "      <td>319</td>\n",
       "      <td>122</td>\n",
       "    </tr>\n",
       "    <tr>\n",
       "      <th>2018-04-22</th>\n",
       "      <td>9</td>\n",
       "      <td>9</td>\n",
       "    </tr>\n",
       "    <tr>\n",
       "      <th>2018-04-29</th>\n",
       "      <td>1199</td>\n",
       "      <td>0</td>\n",
       "    </tr>\n",
       "    <tr>\n",
       "      <th>2018-05-06</th>\n",
       "      <td>0</td>\n",
       "      <td>0</td>\n",
       "    </tr>\n",
       "    <tr>\n",
       "      <th>2018-05-13</th>\n",
       "      <td>40</td>\n",
       "      <td>26</td>\n",
       "    </tr>\n",
       "    <tr>\n",
       "      <th>2018-05-20</th>\n",
       "      <td>1</td>\n",
       "      <td>1</td>\n",
       "    </tr>\n",
       "    <tr>\n",
       "      <th>2018-05-27</th>\n",
       "      <td>27</td>\n",
       "      <td>5</td>\n",
       "    </tr>\n",
       "    <tr>\n",
       "      <th>2018-06-03</th>\n",
       "      <td>80</td>\n",
       "      <td>10</td>\n",
       "    </tr>\n",
       "    <tr>\n",
       "      <th>2018-06-10</th>\n",
       "      <td>20379</td>\n",
       "      <td>314</td>\n",
       "    </tr>\n",
       "    <tr>\n",
       "      <th>2018-06-17</th>\n",
       "      <td>3792</td>\n",
       "      <td>456</td>\n",
       "    </tr>\n",
       "    <tr>\n",
       "      <th>2018-06-24</th>\n",
       "      <td>2909</td>\n",
       "      <td>3028</td>\n",
       "    </tr>\n",
       "    <tr>\n",
       "      <th>2018-07-01</th>\n",
       "      <td>160</td>\n",
       "      <td>105</td>\n",
       "    </tr>\n",
       "  </tbody>\n",
       "</table>\n",
       "</div>"
      ],
      "text/plain": [
       "              additions  deletions\n",
       "created_date                      \n",
       "2018-01-07           50          5\n",
       "2018-01-14          118         57\n",
       "2018-01-21         3363       3479\n",
       "2018-01-28         1025        518\n",
       "2018-02-04          684        100\n",
       "2018-02-11          647        174\n",
       "2018-02-18          415       2494\n",
       "2018-02-25          194         20\n",
       "2018-03-04         2050        272\n",
       "2018-03-11        25883      17750\n",
       "2018-03-18          791        134\n",
       "2018-03-25          232         24\n",
       "2018-04-01            1          1\n",
       "2018-04-08          506         69\n",
       "2018-04-15          319        122\n",
       "2018-04-22            9          9\n",
       "2018-04-29         1199          0\n",
       "2018-05-06            0          0\n",
       "2018-05-13           40         26\n",
       "2018-05-20            1          1\n",
       "2018-05-27           27          5\n",
       "2018-06-03           80         10\n",
       "2018-06-10        20379        314\n",
       "2018-06-17         3792        456\n",
       "2018-06-24         2909       3028\n",
       "2018-07-01          160        105"
      ]
     },
     "execution_count": 7,
     "metadata": {},
     "output_type": "execute_result"
    }
   ],
   "source": [
    "weekly_df"
   ]
  },
  {
   "cell_type": "markdown",
   "metadata": {},
   "source": [
    "Lets plot the dataframe `weekly_df` using matplotlib.pyplot. We use the `seaborn` theme and plot a simple line plot --- lines modified vs time interval. Using the `plt.fill_between` method allows us to \"fill up\" the area between the line plots and the x axis."
   ]
  },
  {
   "cell_type": "code",
   "execution_count": 9,
   "metadata": {},
   "outputs": [
    {
     "data": {
      "image/png": "[encoded data removed]",
      "text/plain": [
       "<Figure size 1080x360 with 1 Axes>"
      ]
     },
     "metadata": {},
     "output_type": "display_data"
    }
   ],
   "source": [
    "plt.figure(figsize=[15, 5])\n",
    "plt.style.use('seaborn')\n",
    "plt.plot(weekly_df['additions'])\n",
    "plt.plot(-weekly_df['deletions'])\n",
    "\n",
    "plt.fill_between(y1=weekly_df['additions'], y2=0, x=weekly_df.index)\n",
    "plt.fill_between(y1=-weekly_df['deletions'], y2=0, x=weekly_df.index)\n",
    "plt.title(\"Lines modified\");\n",
    "plt.show()"
   ]
  },
  {
   "cell_type": "markdown",
   "metadata": {},
   "source": [
    "The same thing can be tried for months, instead of weeks. By passing `month` in place of week, we get a similar dataframe but with only a few rows, due to the larger timescale. "
   ]
  },
  {
   "cell_type": "markdown",
   "metadata": {},
   "source": [
    "## Counting line modifications by commits only made on the master branch\n",
    "Another option one has while using this class for analyzing git commit data is to include only those commits for analysis which are on the master branch. To do this, we pass in an object of the `MasterInclude` class as a list to the `conds` parameter while instantiating the `CodeChangesGit` class.\n",
    "\n",
    "We compute the number of commits created on the master branch after `2018-01-01`, which we stored in the `datetime` object, `date_since`. "
   ]
  },
  {
   "cell_type": "code",
   "execution_count": 10,
   "metadata": {},
   "outputs": [
    {
     "name": "stdout",
     "output_type": "stream",
     "text": [
      "The total number of lines modified (additions, deletions) by commits made on the master branch after 2018-01-01 is (75105, 29929).\n"
     ]
    }
   ],
   "source": [
    "changes_only_master = CodeChangesLines(items,\n",
    "                                    date_range=(date_since, None),\n",
    "                                    conds=[conditions.MasterInclude()])\n",
    "\n",
    "print(\"The total number of lines modified (additions, deletions) by commits made on the master branch \"\n",
    "      \"after 2018-01-01 is {}.\".format(changes_only_master.compute()))"
   ]
  },
  {
   "cell_type": "markdown",
   "metadata": {},
   "source": [
    "Lets do one last thing: the same thing we did in the cell above, but without including empty commits. In this case, we would also need to pass a `conditions.ExcludeEmpty` object to `conds`. \n",
    "\n",
    "Also, lets exclude those commits which work solely on `markdown` files. We use the `PostfixExclude` class, a sub-class of `Code` for this."
   ]
  },
  {
   "cell_type": "code",
   "execution_count": 11,
   "metadata": {},
   "outputs": [
    {
     "name": "stdout",
     "output_type": "stream",
     "text": [
      "The total number of lines modified by non-empty commits made on the master branch is: (8196, 1030)\n"
     ]
    }
   ],
   "source": [
    "changes_non_empty_master = CodeChangesLines(items,\n",
    "                                          is_code=[conditions.PostfixExclude(postfixes=['.md'])],\n",
    "                                          conds=[conditions.MasterInclude(), conditions.EmptyExclude()])\n",
    "\n",
    "print(\"The total number of lines modified by non-empty commits made on the master branch is: {}\".format(changes_non_empty_master.compute()))"
   ]
  }
 ],
 "metadata": {
  "kernelspec": {
   "display_name": "Python 3",
   "language": "python",
   "name": "python3"
  },
  "language_info": {
   "codemirror_mode": {
    "name": "ipython",
    "version": 3
   },
   "file_extension": ".py",
   "mimetype": "text/x-python",
   "name": "python",
   "nbconvert_exporter": "python",
   "pygments_lexer": "ipython3",
   "version": "3.6.8"
  }
 },
 "nbformat": 4,
 "nbformat_minor": 2
}
