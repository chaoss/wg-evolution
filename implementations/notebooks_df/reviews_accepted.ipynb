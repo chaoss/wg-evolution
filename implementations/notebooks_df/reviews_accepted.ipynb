{
 "cells": [
  {
   "cell_type": "markdown",
   "metadata": {},
   "source": [
    "## Reviews_Accepted\n",
    "This is the reference implementation for [Reviews Accepted](https://github.com/chaoss/wg-evolution/blob/master/metrics/Reviews_Accepted.md),\n",
    "a metric specified by the\n",
    "[Evolution Working Group](https://github.com/chaoss/wg-evolution) of the\n",
    "[CHAOSS project](https://chaoss.community).\n",
    "This implementation is specific to Git repositories.\n",
    "\n",
    "Have a look at [README.md](../README.md) to find out how to run this notebook (and others in this directory) as well as to get a better understanding of the purpose of the implementations.\n",
    "\n",
    "The implementation is described in two parts (see below):\n",
    "\n",
    "* Class for computing Reviews Accepted\n",
    "* An explanatory analysis of the class' functionality\n",
    "\n",
    "Some more auxiliary information in this notebook:\n",
    "\n",
    "* Examples of the use of the implementation"
   ]
  },
  {
   "cell_type": "markdown",
   "metadata": {},
   "source": [
    "As discussed in the [README](../README.md) file, the scripts required to analyze the data fetched by Perceval are located in the `code_df` package. Due to python's import system, to import modules from a package which is not in the current directory, we have to either add the package to `PYTHONPATH` or simply append a `..` to `sys.path`, so that `code_df` can be successfully imported. "
   ]
  },
  {
   "cell_type": "code",
   "execution_count": 1,
   "metadata": {},
   "outputs": [],
   "source": [
    "from datetime import datetime\n",
    "import matplotlib.pyplot as plt\n",
    "import sys\n",
    "sys.path.append('..')\n",
    "from code_df import utils\n",
    "from code_df import conditions\n",
    "from code_df.pullrequest import PullRequest\n",
    "%matplotlib inline"
   ]
  },
  {
   "cell_type": "code",
   "execution_count": 2,
   "metadata": {},
   "outputs": [],
   "source": [
    "class ReviewsAccepted(PullRequest):\n",
    "    \"\"\"\n",
    "    Class for Reviews Accepted\n",
    "    \"\"\"\n",
    "\n",
    "    def compute(self):\n",
    "        \"\"\"\n",
    "        Compute the total number of reviews which were accepted, from the Perceval data.\n",
    "\n",
    "        :returns count: The total number of reviews accepted\n",
    "        \"\"\"\n",
    "\n",
    "        count = len(self.df['hash'][self.df['merged']].unique())\n",
    "        return count\n",
    "\n",
    "    def _agg(self, df, period):\n",
    "        \"\"\"\n",
    "        Perform an aggregation operation on a DataFrame to find\n",
    "        the total number of reviews accepted in every\n",
    "        interval of the period specified in the time_series method,\n",
    "        like 'M', 'W',etc.\n",
    "\n",
    "        It computes the count of the \"category\" column of the\n",
    "        DataFrame for those rows with the 'merge' column having True.\n",
    "\n",
    "        :param df: a pandas DataFrame on which the aggregation will be\n",
    "            applied.\n",
    "\n",
    "        :param period: A string which can be any one of the pandas time\n",
    "            series rules:\n",
    "            'W': week\n",
    "            'M': month\n",
    "            'D': day\n",
    "\n",
    "        :returns df: The aggregated dataframe, where aggregations have\n",
    "            been performed on the \"category\" column\n",
    "        \"\"\"\n",
    "\n",
    "        df = df[df['merged']]\n",
    "        df = df.resample(period)['category'].agg(['count'])\n",
    "\n",
    "        return df"
   ]
  },
  {
   "cell_type": "markdown",
   "metadata": {},
   "source": [
    "## Performing the Analysis\n",
    "Lets perform two kinds of analysis here:\n",
    "- computing the number of reviews accepted in a given period\n",
    "- finding the trends in the number of reviews accepted over time"
   ]
  },
  {
   "cell_type": "markdown",
   "metadata": {},
   "source": [
    "### Counting the total number of reviews accepted\n",
    "We first read the JSON file containing Perceval data using the `read_json_file` utility function. "
   ]
  },
  {
   "cell_type": "code",
   "execution_count": 3,
   "metadata": {},
   "outputs": [],
   "source": [
    "items = utils.read_json_file('../pull_requests.json')"
   ]
  },
  {
   "cell_type": "markdown",
   "metadata": {},
   "source": [
    "Let's use the `compute` method to count the total number of accepted reviews. First, we will do it without passing any since and until dates. \n",
    "Next, we can pass in the start and end dates as a tuple. The format would be `%Y-%m-%d`.\n",
    "Let's also find the number of accepted reviews created after a certain date. Here, we would pass a valid `datetime` object for the `since` part of `date_range`, leaving the `until` part as `None`."
   ]
  },
  {
   "cell_type": "code",
   "execution_count": 4,
   "metadata": {},
   "outputs": [
    {
     "name": "stdout",
     "output_type": "stream",
     "text": [
      "The total number of reviews accepted in the data is 201.\n",
      "The total number of reviews created between 2018-01-01 and 2018-07-01 that were accepted is 37.\n",
      "The total number of reviews created after 2018-01-01  that were accepted is 57.\n"
     ]
    }
   ],
   "source": [
    "reviews_accepted = ReviewsAccepted(items)\n",
    "print(\"The total number of reviews accepted \"\n",
    "      \"in the data is {}.\".format(reviews_accepted.compute()))\n",
    "\n",
    "date_since = datetime.strptime(\"2018-01-01\", \"%Y-%m-%d\")\n",
    "date_until = datetime.strptime(\"2018-07-01\", \"%Y-%m-%d\")    \n",
    "\n",
    "reviews_accepted_dated = ReviewsAccepted(items,\n",
    "                        date_range=(date_since, date_until))\n",
    "                        \n",
    "print(\"The total number of reviews created between \"\n",
    "      \"2018-01-01 and 2018-07-01 that were accepted is {}.\".format(reviews_accepted_dated.compute()))\n",
    "\n",
    "reviews_accepted_since = ReviewsAccepted(items,\n",
    "                        date_range=(date_since, None))\n",
    "                        \n",
    "print(\"The total number of reviews created after \"\n",
    "      \"2018-01-01  that were accepted is {}.\".format(reviews_accepted_since.compute()))"
   ]
  },
  {
   "cell_type": "markdown",
   "metadata": {},
   "source": [
    "## Computing the number of accepted reviews over regular time intervals\n",
    "Using the `time_series` method, it is possible to compute the number of reviews accepted every month, every week or any valid pandas timeseries period. This kind of analysis is useful in finding trends over time, as we will see in the cell below.\n",
    "\n",
    "Let's perform a basic analysis: lets see the change in the number of reviews accepted, between the same dates we used above on a weekly basis: 2018-01-01 and 2018-07-01. \n",
    "The `ReviewsAccepted` object, `reviews_accepted_dated`, will be used again."
   ]
  },
  {
   "cell_type": "code",
   "execution_count": 5,
   "metadata": {},
   "outputs": [],
   "source": [
    "weekly_df = reviews_accepted_dated.time_series(period='W')"
   ]
  },
  {
   "cell_type": "markdown",
   "metadata": {},
   "source": [
    "Lets see what the dataframe returned by `time_series` looks like. As you will notice, the dataframe has rows corresponding to each and every week between the start and end dates. To do this, we simply set the `created_date` column of the DataFrame `changes_dated.df`, as its index and then `resample` it to whatever time period we need. In this case, we have used `W`. "
   ]
  },
  {
   "cell_type": "code",
   "execution_count": 6,
   "metadata": {},
   "outputs": [
    {
     "data": {
      "text/html": [
       "<div>\n",
       "<style scoped>\n",
       "    .dataframe tbody tr th:only-of-type {\n",
       "        vertical-align: middle;\n",
       "    }\n",
       "\n",
       "    .dataframe tbody tr th {\n",
       "        vertical-align: top;\n",
       "    }\n",
       "\n",
       "    .dataframe thead th {\n",
       "        text-align: right;\n",
       "    }\n",
       "</style>\n",
       "<table border=\"1\" class=\"dataframe\">\n",
       "  <thead>\n",
       "    <tr style=\"text-align: right;\">\n",
       "      <th></th>\n",
       "      <th>count</th>\n",
       "    </tr>\n",
       "    <tr>\n",
       "      <th>created_date</th>\n",
       "      <th></th>\n",
       "    </tr>\n",
       "  </thead>\n",
       "  <tbody>\n",
       "    <tr>\n",
       "      <th>2018-01-07</th>\n",
       "      <td>3</td>\n",
       "    </tr>\n",
       "    <tr>\n",
       "      <th>2018-01-14</th>\n",
       "      <td>3</td>\n",
       "    </tr>\n",
       "    <tr>\n",
       "      <th>2018-01-21</th>\n",
       "      <td>2</td>\n",
       "    </tr>\n",
       "    <tr>\n",
       "      <th>2018-01-28</th>\n",
       "      <td>2</td>\n",
       "    </tr>\n",
       "    <tr>\n",
       "      <th>2018-02-04</th>\n",
       "      <td>1</td>\n",
       "    </tr>\n",
       "    <tr>\n",
       "      <th>2018-02-11</th>\n",
       "      <td>4</td>\n",
       "    </tr>\n",
       "    <tr>\n",
       "      <th>2018-02-18</th>\n",
       "      <td>2</td>\n",
       "    </tr>\n",
       "    <tr>\n",
       "      <th>2018-02-25</th>\n",
       "      <td>1</td>\n",
       "    </tr>\n",
       "    <tr>\n",
       "      <th>2018-03-04</th>\n",
       "      <td>0</td>\n",
       "    </tr>\n",
       "    <tr>\n",
       "      <th>2018-03-11</th>\n",
       "      <td>5</td>\n",
       "    </tr>\n",
       "    <tr>\n",
       "      <th>2018-03-18</th>\n",
       "      <td>2</td>\n",
       "    </tr>\n",
       "    <tr>\n",
       "      <th>2018-03-25</th>\n",
       "      <td>5</td>\n",
       "    </tr>\n",
       "    <tr>\n",
       "      <th>2018-04-01</th>\n",
       "      <td>0</td>\n",
       "    </tr>\n",
       "    <tr>\n",
       "      <th>2018-04-08</th>\n",
       "      <td>2</td>\n",
       "    </tr>\n",
       "    <tr>\n",
       "      <th>2018-04-15</th>\n",
       "      <td>1</td>\n",
       "    </tr>\n",
       "    <tr>\n",
       "      <th>2018-04-22</th>\n",
       "      <td>1</td>\n",
       "    </tr>\n",
       "    <tr>\n",
       "      <th>2018-04-29</th>\n",
       "      <td>0</td>\n",
       "    </tr>\n",
       "    <tr>\n",
       "      <th>2018-05-06</th>\n",
       "      <td>0</td>\n",
       "    </tr>\n",
       "    <tr>\n",
       "      <th>2018-05-13</th>\n",
       "      <td>0</td>\n",
       "    </tr>\n",
       "    <tr>\n",
       "      <th>2018-05-20</th>\n",
       "      <td>0</td>\n",
       "    </tr>\n",
       "    <tr>\n",
       "      <th>2018-05-27</th>\n",
       "      <td>0</td>\n",
       "    </tr>\n",
       "    <tr>\n",
       "      <th>2018-06-03</th>\n",
       "      <td>3</td>\n",
       "    </tr>\n",
       "  </tbody>\n",
       "</table>\n",
       "</div>"
      ],
      "text/plain": [
       "              count\n",
       "created_date       \n",
       "2018-01-07        3\n",
       "2018-01-14        3\n",
       "2018-01-21        2\n",
       "2018-01-28        2\n",
       "2018-02-04        1\n",
       "2018-02-11        4\n",
       "2018-02-18        2\n",
       "2018-02-25        1\n",
       "2018-03-04        0\n",
       "2018-03-11        5\n",
       "2018-03-18        2\n",
       "2018-03-25        5\n",
       "2018-04-01        0\n",
       "2018-04-08        2\n",
       "2018-04-15        1\n",
       "2018-04-22        1\n",
       "2018-04-29        0\n",
       "2018-05-06        0\n",
       "2018-05-13        0\n",
       "2018-05-20        0\n",
       "2018-05-27        0\n",
       "2018-06-03        3"
      ]
     },
     "execution_count": 6,
     "metadata": {},
     "output_type": "execute_result"
    }
   ],
   "source": [
    "weekly_df"
   ]
  },
  {
   "cell_type": "markdown",
   "metadata": {},
   "source": [
    "Lets plot the dataframe `weekly_df` using matplotlib.pyplot. We use the `seaborn` theme and plot a simple line plot --- commit count vs time interval. Using the `plt.fill_between` method allows us to \"fill up\" the area between the line plot and the x axis."
   ]
  },
  {
   "cell_type": "code",
   "execution_count": 7,
   "metadata": {},
   "outputs": [
    {
     "data": {
      "image/png": "[encoded data removed]",
      "text/plain": [
       "<Figure size 576x396 with 1 Axes>"
      ]
     },
     "metadata": {},
     "output_type": "display_data"
    }
   ],
   "source": [
    "plt.style.use('seaborn')\n",
    "weekly_df.plot(y='count', use_index=True)\n",
    "plt.fill_between(y1=weekly_df['count'], y2=0, x=weekly_df.index)\n",
    "plt.title(\"Number of Reviews Accepted\");"
   ]
  },
  {
   "cell_type": "markdown",
   "metadata": {},
   "source": [
    "We can do the same thing on a monthly basis. As can be expected, the resulting DataFrame, `monthly_df` would have a lesser number of datapoints when compared to `weekly_df`, due to the larger period being considered."
   ]
  },
  {
   "cell_type": "code",
   "execution_count": 8,
   "metadata": {},
   "outputs": [],
   "source": [
    "monthly_df = reviews_accepted_dated.time_series(period='M')"
   ]
  },
  {
   "cell_type": "code",
   "execution_count": 9,
   "metadata": {},
   "outputs": [
    {
     "data": {
      "text/html": [
       "<div>\n",
       "<style scoped>\n",
       "    .dataframe tbody tr th:only-of-type {\n",
       "        vertical-align: middle;\n",
       "    }\n",
       "\n",
       "    .dataframe tbody tr th {\n",
       "        vertical-align: top;\n",
       "    }\n",
       "\n",
       "    .dataframe thead th {\n",
       "        text-align: right;\n",
       "    }\n",
       "</style>\n",
       "<table border=\"1\" class=\"dataframe\">\n",
       "  <thead>\n",
       "    <tr style=\"text-align: right;\">\n",
       "      <th></th>\n",
       "      <th>count</th>\n",
       "    </tr>\n",
       "    <tr>\n",
       "      <th>created_date</th>\n",
       "      <th></th>\n",
       "    </tr>\n",
       "  </thead>\n",
       "  <tbody>\n",
       "    <tr>\n",
       "      <th>2018-01-31</th>\n",
       "      <td>11</td>\n",
       "    </tr>\n",
       "    <tr>\n",
       "      <th>2018-02-28</th>\n",
       "      <td>7</td>\n",
       "    </tr>\n",
       "    <tr>\n",
       "      <th>2018-03-31</th>\n",
       "      <td>12</td>\n",
       "    </tr>\n",
       "    <tr>\n",
       "      <th>2018-04-30</th>\n",
       "      <td>4</td>\n",
       "    </tr>\n",
       "    <tr>\n",
       "      <th>2018-05-31</th>\n",
       "      <td>3</td>\n",
       "    </tr>\n",
       "  </tbody>\n",
       "</table>\n",
       "</div>"
      ],
      "text/plain": [
       "              count\n",
       "created_date       \n",
       "2018-01-31       11\n",
       "2018-02-28        7\n",
       "2018-03-31       12\n",
       "2018-04-30        4\n",
       "2018-05-31        3"
      ]
     },
     "execution_count": 9,
     "metadata": {},
     "output_type": "execute_result"
    }
   ],
   "source": [
    "monthly_df"
   ]
  },
  {
   "cell_type": "code",
   "execution_count": 10,
   "metadata": {},
   "outputs": [
    {
     "data": {
      "image/png": "[encoded data removed]",
      "text/plain": [
       "<Figure size 576x396 with 1 Axes>"
      ]
     },
     "metadata": {},
     "output_type": "display_data"
    }
   ],
   "source": [
    "plt.style.use('seaborn')\n",
    "monthly_df.plot(y='count', use_index=True)\n",
    "plt.fill_between(y1=monthly_df['count'], y2=0, x=monthly_df.index)\n",
    "plt.title(\"Number of Reviews Accepted\");"
   ]
  }
 ],
 "metadata": {
  "kernelspec": {
   "display_name": "Python 3",
   "language": "python",
   "name": "python3"
  },
  "language_info": {
   "codemirror_mode": {
    "name": "ipython",
    "version": 3
   },
   "file_extension": ".py",
   "mimetype": "text/x-python",
   "name": "python",
   "nbconvert_exporter": "python",
   "pygments_lexer": "ipython3",
   "version": "3.6.8"
  }
 },
 "nbformat": 4,
 "nbformat_minor": 2
}
