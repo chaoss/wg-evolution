{
 "cells": [
  {
   "cell_type": "markdown",
   "metadata": {},
   "source": [
    "## Open Issue Age\n",
    "This is the reference implementation for [Open Issue Age](https://github.com/chaoss/wg-evolution/blob/master/metrics/issues-open-age.md),\n",
    "a metric specified by the\n",
    "[Evolution Working Group](https://github.com/chaoss/wg-evolution) of the\n",
    "[CHAOSS project](https://chaoss.community).\n",
    "\n",
    "Have a look at [README.md](../README.md) to find out how to run this notebook (and others in this directory) as well as to get a better understanding of the purpose of the implementations.\n",
    "\n",
    "The implementation is described in two parts (see below):\n",
    "\n",
    "* Class for computing Open Issue Age\n",
    "* An explanatory analysis of the class' functionality\n",
    "\n",
    "Some more auxiliary information in this notebook:\n",
    "\n",
    "* Examples of the use of the implementation"
   ]
  },
  {
   "cell_type": "markdown",
   "metadata": {},
   "source": [
    "As discussed in the [README](../README.md) file, the scripts required to analyze the data fetched by Perceval are located in the `code_df` package. Due to python's import system, to import modules from a package which is not in the current directory, we have to either add the package to `PYTHONPATH` or simply append a `..` to `sys.path`, so that `code_df` can be successfully imported. "
   ]
  },
  {
   "cell_type": "code",
   "execution_count": 1,
   "metadata": {},
   "outputs": [],
   "source": [
    "from datetime import datetime\n",
    "import matplotlib.pyplot as plt\n",
    "import sys\n",
    "sys.path.append('..')\n",
    "from code_df import utils\n",
    "from code_df.issue import Issue\n",
    "%matplotlib inline"
   ]
  },
  {
   "cell_type": "code",
   "execution_count": 2,
   "metadata": {},
   "outputs": [],
   "source": [
    "class OpenIssueAge(Issue):\n",
    "    \"\"\"\n",
    "    Class for Age of Open Issues\n",
    "    \"\"\"\n",
    "\n",
    "    def _flatten(self, item):\n",
    "        \"\"\"\n",
    "        Flatten a raw issue fetched by Perceval into a flat dictionary.\n",
    "\n",
    "        A list with a single flat directory will be returned.\n",
    "        That dictionary will have the elements we need for computing metrics.\n",
    "        The list may be empty, if for some reason the issue should not\n",
    "        be considered.\n",
    "\n",
    "        :param item: raw item fetched by Perceval (dictionary)\n",
    "        :returns:   list of a single flat dictionary\n",
    "        \"\"\"\n",
    "\n",
    "        creation_date = utils.str_to_date(item['data']['created_at'])\n",
    "        if self.since and (self.since > creation_date):\n",
    "            return []\n",
    "\n",
    "        if self.until and (self.until < creation_date):\n",
    "            return []\n",
    "\n",
    "        flat = {\n",
    "            'repo': item['origin'],\n",
    "            'hash': item['data']['id'],\n",
    "            'category': \"issue\",\n",
    "            'author': item['data']['user']['login'],\n",
    "            'created_date': creation_date,\n",
    "            'current_status': item['data']['state']\n",
    "        }\n",
    "\n",
    "        if flat['current_status'] == 'open':\n",
    "            flat['open_issue_age'] = \\\n",
    "               (datetime.now() - flat['created_date']).days\n",
    "\n",
    "        else:\n",
    "            return []\n",
    "\n",
    "        return [flat]\n",
    "\n",
    "    def compute(self):\n",
    "        \"\"\"\n",
    "        Compute the average open issue age for all issues in the Perceval data.\n",
    "\n",
    "        :returns avg_open_issue_age: the average age of open\n",
    "            issues\n",
    "        \"\"\"\n",
    "\n",
    "        avg_open_issue_age = self.df['open_issue_age'].mean()\n",
    "        return avg_open_issue_age\n",
    "\n",
    "    def _agg(self, df, period):\n",
    "        \"\"\"\n",
    "        Perform an aggregation operation on a DataFrame to find\n",
    "        the average age of open issues created in a every\n",
    "        interval of the period specified in the time_series method,\n",
    "        like 'M', 'W',etc.\n",
    "\n",
    "        It computes the mean of the 'open_issue_age' column of the\n",
    "        DataFrame.\n",
    "\n",
    "        :param df: a pandas DataFrame on which the aggregation will be\n",
    "            applied.\n",
    "\n",
    "        :param period: A string which can be any one of the pandas time\n",
    "            series rules:\n",
    "            'W': week\n",
    "            'M': month\n",
    "            'D': day\n",
    "\n",
    "        :returns df: The aggregated dataframe, where aggregations have\n",
    "            been performed on the \"open_issue_age\" column\n",
    "        \"\"\"\n",
    "\n",
    "        df = df.resample(period).agg({'open_issue_age': 'mean'})\n",
    "        df['open_issue_age'] = df['open_issue_age'].fillna(0)\n",
    "\n",
    "        return df\n"
   ]
  },
  {
   "cell_type": "markdown",
   "metadata": {},
   "source": [
    "## Performing the Analysis\n",
    "We'll perform two kinds of analysis here:\n",
    "- Counting the average age of open issues\n",
    "- Change of average open issue age over time"
   ]
  },
  {
   "cell_type": "markdown",
   "metadata": {},
   "source": [
    "### Counting the average age of open issues\n",
    "First, we read the JSON file `issues.json`, present in the `implementations` directory, one level up. We make use of the `read_json_file` utility function.  Notice the filter being used here on `items`. The GitHub API considers all pull requests to be issues. Any pull request represented as an issue has a 'pull_request' attribute, which is used to filter them out from the issue data."
   ]
  },
  {
   "cell_type": "code",
   "execution_count": 3,
   "metadata": {},
   "outputs": [],
   "source": [
    "items = utils.read_json_file('../issues.json')\n",
    "\n",
    "items = [item for item in items if 'pull_request' not in item['data']]"
   ]
  },
  {
   "cell_type": "markdown",
   "metadata": {},
   "source": [
    "Let's use the `compute` method to count the total number of valid issues made. First, we will do it without passing any since and until dates. \n",
    "Next, we can pass in the start and end dates as a tuple. The format would be `%Y-%m-%d`.   \n",
    "\n",
    "Lets calculate the average age for all open issues first. Then, we can do it by passing a start date. Here, only those issues will be considered that were created after the start date we passed via the variable `date_since`. \n",
    "\n",
    "While printing the output, we will keep the precision to only two decimals. "
   ]
  },
  {
   "cell_type": "code",
   "execution_count": 4,
   "metadata": {},
   "outputs": [
    {
     "name": "stdout",
     "output_type": "stream",
     "text": [
      "The average age of all open issues is 518.42 days.\n",
      "The average age of open issues created after 2018-09-07 is 206.26 days.\n"
     ]
    }
   ],
   "source": [
    "date_since = datetime.strptime(\"2018-09-07\", \"%Y-%m-%d\")\n",
    "open_issue_age = OpenIssueAge(items)\n",
    "print(\"The average age of all open issues is {:.2f} days.\"\n",
    "      .format(open_issue_age.compute()))\n",
    "\n",
    "open_issue_age_interval = OpenIssueAge(items, (date_since, None))\n",
    "print(\"The average age of open issues created after 2018-09-07 is {:.2f} days.\"\n",
    "      .format(open_issue_age_interval.compute()))"
   ]
  },
  {
   "cell_type": "markdown",
   "metadata": {},
   "source": [
    "## Average age of open issues over time\n",
    "Using the `timeseries` method, we can see how the average age of open issues changes on every periodic interval of time. This interval can be a week, a month or any other valid pandas timeseries period.  This kind of analysis is useful in finding trends over time, as we will see in the cell below.\n",
    "\n",
    "Lets use the `open_issue_age_interval` object we created above, where we passed an opening date to the object via `date_since`."
   ]
  },
  {
   "cell_type": "code",
   "execution_count": 5,
   "metadata": {},
   "outputs": [],
   "source": [
    "weekly_df = open_issue_age_interval.time_series('W')"
   ]
  },
  {
   "cell_type": "markdown",
   "metadata": {},
   "source": [
    "Lets see what the dataframe returned by `timeseries` looks like. As you will notice, the dataframe has rows corresponding to each and every week between the start and end dates. To do this, we simply set the `created_date` column of the DataFrame `open_issue_age_interval.df`, as its index and then `resample` it to whatever time period we need. In this case, we have used `W`.  "
   ]
  },
  {
   "cell_type": "code",
   "execution_count": 6,
   "metadata": {},
   "outputs": [
    {
     "data": {
      "text/html": [
       "<div>\n",
       "<style scoped>\n",
       "    .dataframe tbody tr th:only-of-type {\n",
       "        vertical-align: middle;\n",
       "    }\n",
       "\n",
       "    .dataframe tbody tr th {\n",
       "        vertical-align: top;\n",
       "    }\n",
       "\n",
       "    .dataframe thead th {\n",
       "        text-align: right;\n",
       "    }\n",
       "</style>\n",
       "<table border=\"1\" class=\"dataframe\">\n",
       "  <thead>\n",
       "    <tr style=\"text-align: right;\">\n",
       "      <th></th>\n",
       "      <th>open_issue_age</th>\n",
       "    </tr>\n",
       "    <tr>\n",
       "      <th>created_date</th>\n",
       "      <th></th>\n",
       "    </tr>\n",
       "  </thead>\n",
       "  <tbody>\n",
       "    <tr>\n",
       "      <th>2018-09-09</th>\n",
       "      <td>304.000000</td>\n",
       "    </tr>\n",
       "    <tr>\n",
       "      <th>2018-09-16</th>\n",
       "      <td>0.000000</td>\n",
       "    </tr>\n",
       "    <tr>\n",
       "      <th>2018-09-23</th>\n",
       "      <td>0.000000</td>\n",
       "    </tr>\n",
       "    <tr>\n",
       "      <th>2018-09-30</th>\n",
       "      <td>282.000000</td>\n",
       "    </tr>\n",
       "    <tr>\n",
       "      <th>2018-10-07</th>\n",
       "      <td>0.000000</td>\n",
       "    </tr>\n",
       "    <tr>\n",
       "      <th>2018-10-14</th>\n",
       "      <td>0.000000</td>\n",
       "    </tr>\n",
       "    <tr>\n",
       "      <th>2018-10-21</th>\n",
       "      <td>0.000000</td>\n",
       "    </tr>\n",
       "    <tr>\n",
       "      <th>2018-10-28</th>\n",
       "      <td>254.000000</td>\n",
       "    </tr>\n",
       "    <tr>\n",
       "      <th>2018-11-04</th>\n",
       "      <td>0.000000</td>\n",
       "    </tr>\n",
       "    <tr>\n",
       "      <th>2018-11-11</th>\n",
       "      <td>0.000000</td>\n",
       "    </tr>\n",
       "    <tr>\n",
       "      <th>2018-11-18</th>\n",
       "      <td>237.000000</td>\n",
       "    </tr>\n",
       "    <tr>\n",
       "      <th>2018-11-25</th>\n",
       "      <td>226.666667</td>\n",
       "    </tr>\n",
       "    <tr>\n",
       "      <th>2018-12-02</th>\n",
       "      <td>222.666667</td>\n",
       "    </tr>\n",
       "    <tr>\n",
       "      <th>2018-12-09</th>\n",
       "      <td>216.500000</td>\n",
       "    </tr>\n",
       "    <tr>\n",
       "      <th>2018-12-16</th>\n",
       "      <td>0.000000</td>\n",
       "    </tr>\n",
       "    <tr>\n",
       "      <th>2018-12-23</th>\n",
       "      <td>0.000000</td>\n",
       "    </tr>\n",
       "    <tr>\n",
       "      <th>2018-12-30</th>\n",
       "      <td>194.000000</td>\n",
       "    </tr>\n",
       "    <tr>\n",
       "      <th>2019-01-06</th>\n",
       "      <td>185.000000</td>\n",
       "    </tr>\n",
       "    <tr>\n",
       "      <th>2019-01-13</th>\n",
       "      <td>181.000000</td>\n",
       "    </tr>\n",
       "    <tr>\n",
       "      <th>2019-01-20</th>\n",
       "      <td>171.500000</td>\n",
       "    </tr>\n",
       "    <tr>\n",
       "      <th>2019-01-27</th>\n",
       "      <td>0.000000</td>\n",
       "    </tr>\n",
       "    <tr>\n",
       "      <th>2019-02-03</th>\n",
       "      <td>0.000000</td>\n",
       "    </tr>\n",
       "    <tr>\n",
       "      <th>2019-02-10</th>\n",
       "      <td>153.000000</td>\n",
       "    </tr>\n",
       "    <tr>\n",
       "      <th>2019-02-17</th>\n",
       "      <td>0.000000</td>\n",
       "    </tr>\n",
       "    <tr>\n",
       "      <th>2019-02-24</th>\n",
       "      <td>0.000000</td>\n",
       "    </tr>\n",
       "    <tr>\n",
       "      <th>2019-03-03</th>\n",
       "      <td>0.000000</td>\n",
       "    </tr>\n",
       "    <tr>\n",
       "      <th>2019-03-10</th>\n",
       "      <td>122.000000</td>\n",
       "    </tr>\n",
       "  </tbody>\n",
       "</table>\n",
       "</div>"
      ],
      "text/plain": [
       "              open_issue_age\n",
       "created_date                \n",
       "2018-09-09        304.000000\n",
       "2018-09-16          0.000000\n",
       "2018-09-23          0.000000\n",
       "2018-09-30        282.000000\n",
       "2018-10-07          0.000000\n",
       "2018-10-14          0.000000\n",
       "2018-10-21          0.000000\n",
       "2018-10-28        254.000000\n",
       "2018-11-04          0.000000\n",
       "2018-11-11          0.000000\n",
       "2018-11-18        237.000000\n",
       "2018-11-25        226.666667\n",
       "2018-12-02        222.666667\n",
       "2018-12-09        216.500000\n",
       "2018-12-16          0.000000\n",
       "2018-12-23          0.000000\n",
       "2018-12-30        194.000000\n",
       "2019-01-06        185.000000\n",
       "2019-01-13        181.000000\n",
       "2019-01-20        171.500000\n",
       "2019-01-27          0.000000\n",
       "2019-02-03          0.000000\n",
       "2019-02-10        153.000000\n",
       "2019-02-17          0.000000\n",
       "2019-02-24          0.000000\n",
       "2019-03-03          0.000000\n",
       "2019-03-10        122.000000"
      ]
     },
     "execution_count": 6,
     "metadata": {},
     "output_type": "execute_result"
    }
   ],
   "source": [
    "weekly_df"
   ]
  },
  {
   "cell_type": "markdown",
   "metadata": {},
   "source": [
    "Lets plot the dataframe `weekly_df` using matplotlib.pyplot. We use the `seaborn` theme and plot a simple line plot --- average open issue age vs time interval. Using the `plt.fill_between` method allows us to \"fill up\" the area between the line plot and the x axis."
   ]
  },
  {
   "cell_type": "code",
   "execution_count": 7,
   "metadata": {},
   "outputs": [
    {
     "data": {
      "image/png": "[encoded data removed]",
      "text/plain": [
       "<Figure size 576x396 with 1 Axes>"
      ]
     },
     "metadata": {},
     "output_type": "display_data"
    }
   ],
   "source": [
    "plt.style.use('seaborn')\n",
    "weekly_df.plot(y='open_issue_age', use_index=True, marker='.')\n",
    "plt.fill_between(y1=weekly_df['open_issue_age'], y2=0, x=weekly_df.index)\n",
    "plt.title(\"Open Issue Age Timeseries\");"
   ]
  },
  {
   "cell_type": "markdown",
   "metadata": {},
   "source": [
    "The lows in the graph above mean that either no issues were created that week, or that all created issues were closed. "
   ]
  },
  {
   "cell_type": "markdown",
   "metadata": {},
   "source": [
    "Lets try and do the same thing, but this time, we'll do it on a monthy basis."
   ]
  },
  {
   "cell_type": "code",
   "execution_count": 8,
   "metadata": {},
   "outputs": [],
   "source": [
    "monthly_df = open_issue_age_interval.time_series('M')"
   ]
  },
  {
   "cell_type": "code",
   "execution_count": 9,
   "metadata": {},
   "outputs": [
    {
     "data": {
      "text/html": [
       "<div>\n",
       "<style scoped>\n",
       "    .dataframe tbody tr th:only-of-type {\n",
       "        vertical-align: middle;\n",
       "    }\n",
       "\n",
       "    .dataframe tbody tr th {\n",
       "        vertical-align: top;\n",
       "    }\n",
       "\n",
       "    .dataframe thead th {\n",
       "        text-align: right;\n",
       "    }\n",
       "</style>\n",
       "<table border=\"1\" class=\"dataframe\">\n",
       "  <thead>\n",
       "    <tr style=\"text-align: right;\">\n",
       "      <th></th>\n",
       "      <th>open_issue_age</th>\n",
       "    </tr>\n",
       "    <tr>\n",
       "      <th>created_date</th>\n",
       "      <th></th>\n",
       "    </tr>\n",
       "  </thead>\n",
       "  <tbody>\n",
       "    <tr>\n",
       "      <th>2018-09-30</th>\n",
       "      <td>293.000000</td>\n",
       "    </tr>\n",
       "    <tr>\n",
       "      <th>2018-10-31</th>\n",
       "      <td>254.000000</td>\n",
       "    </tr>\n",
       "    <tr>\n",
       "      <th>2018-11-30</th>\n",
       "      <td>226.428571</td>\n",
       "    </tr>\n",
       "    <tr>\n",
       "      <th>2018-12-31</th>\n",
       "      <td>212.000000</td>\n",
       "    </tr>\n",
       "    <tr>\n",
       "      <th>2019-01-31</th>\n",
       "      <td>177.250000</td>\n",
       "    </tr>\n",
       "    <tr>\n",
       "      <th>2019-02-28</th>\n",
       "      <td>153.000000</td>\n",
       "    </tr>\n",
       "    <tr>\n",
       "      <th>2019-03-31</th>\n",
       "      <td>122.000000</td>\n",
       "    </tr>\n",
       "  </tbody>\n",
       "</table>\n",
       "</div>"
      ],
      "text/plain": [
       "              open_issue_age\n",
       "created_date                \n",
       "2018-09-30        293.000000\n",
       "2018-10-31        254.000000\n",
       "2018-11-30        226.428571\n",
       "2018-12-31        212.000000\n",
       "2019-01-31        177.250000\n",
       "2019-02-28        153.000000\n",
       "2019-03-31        122.000000"
      ]
     },
     "execution_count": 9,
     "metadata": {},
     "output_type": "execute_result"
    }
   ],
   "source": [
    "monthly_df"
   ]
  },
  {
   "cell_type": "markdown",
   "metadata": {},
   "source": [
    "As predicted, the `monthly_df` dataframe has significantly lesser rows than the dataframe we just observed --- `weekly_df`. Each row corresponds to a month between the `since` and `until` finish dates we passed to while instantiating the `OpenIssueAge` class.  \n",
    "\n",
    "Lets do one last thing: plot the graph for `monthly_df`. "
   ]
  },
  {
   "cell_type": "code",
   "execution_count": 10,
   "metadata": {},
   "outputs": [
    {
     "data": {
      "image/png": "[encoded data removed]",
      "text/plain": [
       "<Figure size 576x396 with 1 Axes>"
      ]
     },
     "metadata": {},
     "output_type": "display_data"
    }
   ],
   "source": [
    "plt.style.use('seaborn')\n",
    "monthly_df.plot(y='open_issue_age', use_index=True, marker='.')\n",
    "plt.title(\"Average Open Issue Age\");"
   ]
  },
  {
   "cell_type": "code",
   "execution_count": null,
   "metadata": {},
   "outputs": [],
   "source": []
  }
 ],
 "metadata": {
  "kernelspec": {
   "display_name": "Python 3",
   "language": "python",
   "name": "python3"
  },
  "language_info": {
   "codemirror_mode": {
    "name": "ipython",
    "version": 3
   },
   "file_extension": ".py",
   "mimetype": "text/x-python",
   "name": "python",
   "nbconvert_exporter": "python",
   "pygments_lexer": "ipython3",
   "version": "3.6.8"
  },
  "pycharm": {
   "stem_cell": {
    "cell_type": "raw",
    "metadata": {
     "collapsed": false
    },
    "source": []
   }
  }
 },
 "nbformat": 4,
 "nbformat_minor": 2
}
