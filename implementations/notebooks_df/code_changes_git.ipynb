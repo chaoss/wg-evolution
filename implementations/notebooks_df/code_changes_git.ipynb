{
 "cells": [
  {
   "cell_type": "markdown",
   "metadata": {},
   "source": [
    "## Code_Changes_Git\n",
    "This is the reference implementation for [Code_Changes](https://github.com/chaoss/wg-evolution/blob/master/metrics/Code_Changes.md),\n",
    "a metric specified by the\n",
    "[Evolution Working Group](https://github.com/chaoss/wg-evolution) of the\n",
    "[CHAOSS project](https://chaoss.community).\n",
    "This implementation is specific to Git repositories.\n",
    "\n",
    "Have a look at [README.md](README.md) to find out how to run this notebook (and others in this directory) as well as to get a better understanding of the purpose of the implementations.\n",
    "\n",
    "The implementation is described in two parts (see below):\n",
    "\n",
    "* Class for computing Code_Changes\n",
    "* An explanatory analysis of the class' functionality\n",
    "\n",
    "Some more auxiliary information in this notebook:\n",
    "\n",
    "* Examples of the use of the implementation\n",
    "* Examples of how to check for specific peculiarities of git commits"
   ]
  },
  {
   "cell_type": "markdown",
   "metadata": {},
   "source": [
    "As discussed in the [README](README.md) file, the scripts required to analyze the data fetched by Perceval are located in the `code_df` package. Due to python's import system, to import modules from a package which is not in the current directory, we have to either add the package to `PYTHONPATH` or simply append a `..` to `sys.path`, so that `code_df` can be successfully imported. "
   ]
  },
  {
   "cell_type": "code",
   "execution_count": 1,
   "metadata": {},
   "outputs": [],
   "source": [
    "import pandas as pd\n",
    "from datetime import datetime\n",
    "import matplotlib.pyplot as plt\n",
    "import sys\n",
    "sys.path.append('..')\n",
    "from code_df import utils\n",
    "from code_df.is_source_code import IsSourceCode, Naive\n",
    "from code_df.commit import Commit\n",
    "%matplotlib inline"
   ]
  },
  {
   "cell_type": "code",
   "execution_count": 2,
   "metadata": {},
   "outputs": [],
   "source": [
    "class CodeChangesGit(Commit):\n",
    "    \"\"\"Class for Code_Changes for Git repositories.\n",
    "\n",
    "    :param items: A list of dictionaries, each element a line from the\n",
    "        JSON file with Perceval data\n",
    "    :param date_range: A tuple which represents the start and end date of\n",
    "        interest\n",
    "    :param issrccode_obj: An object of IsSourceCode, used to determine\n",
    "        what comprises source code.\n",
    "    \"\"\"\n",
    "\n",
    "    def __init__(self, items, date_range=(None, None), issrccode_obj=None):\n",
    "\n",
    "        super().__init__(items, date_range, issrccode_obj)\n",
    "\n",
    "    def compute(self, incl_empty=True, incl_merge=True, master_only=False):\n",
    "        \"\"\"Count number of commits of different types, like including empty commits\n",
    "        or counting only those commits made on the master branch.\n",
    "\n",
    "        :param incl_empty: Include empty commits\n",
    "        :param incl_merge: Include merge commits\n",
    "        :param master_only: Include only commits made on master branch\n",
    "\n",
    "        :returns count: the number of commits satisfying the passed\n",
    "            conditions above\n",
    "        \"\"\"\n",
    "        df = self.df\n",
    "\n",
    "        if master_only:\n",
    "            count = self._count_master_only(incl_empty)\n",
    "\n",
    "        else:\n",
    "            if not incl_empty:\n",
    "                df = df[df['files_action'] != 0]\n",
    "            if not incl_merge:\n",
    "                df = df[~df['merge']]\n",
    "            count = df['hash'].nunique()\n",
    "\n",
    "        return count\n",
    "\n",
    "    def compute_timeseries(self, period='month'):\n",
    "        \"\"\"\n",
    "        The metric value is computed for each fixed interval of time\n",
    "        from the \"since\" date to the \"until\" date arguments, specified\n",
    "        during object initiation.\n",
    "\n",
    "        The fixed time interval can be either a month or a week.\n",
    "\n",
    "        :param period: A string which can be either \"month\" or \"week\"\n",
    "\n",
    "        :returns dataframe: A DataFrame whose rows each represent an interval\n",
    "            of \"period\" and the count for that interval\n",
    "        \"\"\"\n",
    "\n",
    "        df = self.df\n",
    "        if period == 'month':\n",
    "            timeseries_series = df['created_date'] \\\n",
    "                .groupby([df['created_date'].dt.year.rename('year'),\n",
    "                          df['created_date'].dt.month.rename('month')]) \\\n",
    "                .agg('count')\n",
    "\n",
    "            all_periods = pd.DataFrame(\n",
    "                            pd.date_range(self.since, self.until, freq='M'),\n",
    "                            columns=['Dates'])\n",
    "            all_periods = pd.DataFrame(\n",
    "                [all_periods['Dates'].dt.year.rename('year'),\n",
    "                 all_periods['Dates'].dt.month.rename(\"month\")]).T\n",
    "\n",
    "        elif period == 'week':\n",
    "            timeseries_series = df['created_date'] \\\n",
    "                .groupby([df['created_date'].dt.year.rename('year'),\n",
    "                          df['created_date'].dt.week.rename('week')])   \\\n",
    "                .agg('count')\n",
    "\n",
    "            all_periods = pd.DataFrame(\n",
    "                            pd.date_range(self.since, self.until, freq='W'),\n",
    "                            columns=['Dates'])\n",
    "            all_periods = pd.DataFrame(\n",
    "                [all_periods['Dates'].dt.year.rename('year'),\n",
    "                 all_periods['Dates'].dt.week.rename('week')]).T\n",
    "\n",
    "        else:\n",
    "            raise ValueError(\"period parameter can take 'month' or 'week'\")\n",
    "\n",
    "        timeseries_df = pd.DataFrame(timeseries_series)\n",
    "        timeseries_df.reset_index(inplace=True)\n",
    "        timeseries_df.columns = ['year', period, 'count']\n",
    "        merged_df = all_periods.merge(timeseries_df, how='outer').fillna(0)\n",
    "\n",
    "        dataframe = merged_df\n",
    "        return dataframe\n",
    "\n",
    "    def _count_master_only(self, incl_empty=True):\n",
    "        \"\"\"\n",
    "        Counts commits present only on the master branch.\n",
    "\n",
    "        :param incl_empty: exclude empty commits on the master branch\n",
    "\n",
    "        :returns commits_count: the number of commits created on the\n",
    "            master branch\n",
    "        \"\"\"\n",
    "\n",
    "        df = self.df\n",
    "        todo = set()\n",
    "        for _, commit in df.iterrows():\n",
    "            if 'HEAD -> refs/heads/master' in commit['refs']:\n",
    "                todo.add(commit['hash'])\n",
    "\n",
    "        master = set()\n",
    "        while len(todo) > 0:\n",
    "            current = todo.pop()\n",
    "            master.add(current)\n",
    "\n",
    "            if len(df[df['hash'] == current]['parents']) > 0:\n",
    "                for parent in df[df['hash'] == current]['parents'].iloc[0]:\n",
    "                    if parent not in master:\n",
    "                        todo.add(parent)\n",
    "\n",
    "        if not incl_empty:\n",
    "            commits_count = 0\n",
    "            for commit_id in master:\n",
    "                commit = df[df['hash'] == commit_id]\n",
    "                if len(commit['files']) > 0:\n",
    "                    for file in commit['files'].iloc[0]:\n",
    "                        if 'action' in file:\n",
    "                            commits_count += 1\n",
    "                            break\n",
    "\n",
    "        else:\n",
    "            commits_count = len(master)\n",
    "\n",
    "        return commits_count"
   ]
  },
  {
   "cell_type": "markdown",
   "metadata": {},
   "source": [
    "## Performing the Analysis\n",
    "Using the above class, we can perform several kinds of analysis on the JSON data file, fetched by Perceval. \n",
    "For starters, we can perform a simple count of all commits in the file. To make things simple, we can use a naive implementation for deciding whether a given commit affects the source code or not. Again, the naive implementation assumes that all files are part of the source code, and hence, all commits are considered to affect it. "
   ]
  },
  {
   "cell_type": "markdown",
   "metadata": {},
   "source": [
    "### Counting the total number of commits \n",
    "We first create a IsSourceCode object with a naive implementation, and then pass that along with the data of the JSON file as a list to Code_Changes_Git."
   ]
  },
  {
   "cell_type": "code",
   "execution_count": 3,
   "metadata": {},
   "outputs": [],
   "source": [
    "sourcecode = IsSourceCode(algorithm_class=Naive)\n",
    "items = utils.read_JSON_file('../git-commits.json')"
   ]
  },
  {
   "cell_type": "markdown",
   "metadata": {},
   "source": [
    "Let's use the `compute` method to count the total number of valid commits made. First, we will do it without passing any since and until dates. \n",
    "Next, we can pass in the start and end dates as a tuple. The format would be %Y-%m-%d."
   ]
  },
  {
   "cell_type": "code",
   "execution_count": 4,
   "metadata": {},
   "outputs": [
    {
     "name": "stdout",
     "output_type": "stream",
     "text": [
      "The total number of commits in the file is: 1963\n",
      "The total number of commits between 2018-01-01 and 2018-07-01 in the file is: 437\n"
     ]
    }
   ],
   "source": [
    "changes = CodeChangesGit(items, issrccode_obj=sourcecode)\n",
    "print(\"The total number of commits in the file is: {}\".format(changes.compute()))\n",
    "\n",
    "date_since = datetime.strptime(\"2018-01-01\", \"%Y-%m-%d\")\n",
    "date_until = datetime.strptime(\"2018-07-01\", \"%Y-%m-%d\")\n",
    "\n",
    "changes_interval = CodeChangesGit(items, (date_since, date_until), issrccode_obj=sourcecode)\n",
    "print(\"The total number of commits between 2018-01-01 and 2018-07-01 in the file is: {}\".format(changes_interval.compute()))"
   ]
  },
  {
   "cell_type": "markdown",
   "metadata": {},
   "source": [
    "### Counting the total number of commits excluding merge commits\n",
    "Moving on, lets make use of the `empty` and `merge` parameters of `compute()`. To reiterate, passing `empty` or `merge` as `True`, which is the default behaviour includes empty and merge commits in the count. Of course, to exclude them, we would just have to pass `False`. Below, let's calculate the number of non-merge commits. "
   ]
  },
  {
   "cell_type": "code",
   "execution_count": 5,
   "metadata": {},
   "outputs": [
    {
     "name": "stdout",
     "output_type": "stream",
     "text": [
      "The total number of non-merge commits between 2018-01-01 and 2018-07-01 are: 317\n"
     ]
    }
   ],
   "source": [
    "print(\"The total number of non-merge commits between 2018-01-01 and 2018-07-01 are: {}\".format(changes_interval.compute(incl_empty=False)))"
   ]
  },
  {
   "cell_type": "markdown",
   "metadata": {},
   "source": [
    "## Counting commits over regular time intervals\n",
    "Using the `compute_timeseries` method, it is possible to compute the number of commits created every month, or every week. This kind of analysis is useful in finding trends over time, as we will see in the cell below. Let's perform a basic analysis: lets see the change in the number of commits created between the same dates we used above on a weekly basis: 2018-01-01 and 2018-07-01. The Code_Changes_Git object will be the same as used above."
   ]
  },
  {
   "cell_type": "code",
   "execution_count": 6,
   "metadata": {},
   "outputs": [],
   "source": [
    "weekly_df = changes_interval.compute_timeseries(\"week\")"
   ]
  },
  {
   "cell_type": "markdown",
   "metadata": {},
   "source": [
    "Lets see what the dataframe returned by `compute_timeseries` looks like. As you will notice, the dataframe has rows corresponding to each and every week between the start and end dates. A simple merge between the dataframes of all possible weeks and the commit count dataframe (which would of course, be missing several rows(weeks) where there would be no commits) gave us this output. "
   ]
  },
  {
   "cell_type": "code",
   "execution_count": 7,
   "metadata": {},
   "outputs": [
    {
     "data": {
      "text/html": [
       "<div>\n",
       "<style scoped>\n",
       "    .dataframe tbody tr th:only-of-type {\n",
       "        vertical-align: middle;\n",
       "    }\n",
       "\n",
       "    .dataframe tbody tr th {\n",
       "        vertical-align: top;\n",
       "    }\n",
       "\n",
       "    .dataframe thead th {\n",
       "        text-align: right;\n",
       "    }\n",
       "</style>\n",
       "<table border=\"1\" class=\"dataframe\">\n",
       "  <thead>\n",
       "    <tr style=\"text-align: right;\">\n",
       "      <th></th>\n",
       "      <th>year</th>\n",
       "      <th>week</th>\n",
       "      <th>count</th>\n",
       "    </tr>\n",
       "  </thead>\n",
       "  <tbody>\n",
       "    <tr>\n",
       "      <th>0</th>\n",
       "      <td>2018</td>\n",
       "      <td>1</td>\n",
       "      <td>4</td>\n",
       "    </tr>\n",
       "    <tr>\n",
       "      <th>1</th>\n",
       "      <td>2018</td>\n",
       "      <td>2</td>\n",
       "      <td>11</td>\n",
       "    </tr>\n",
       "    <tr>\n",
       "      <th>2</th>\n",
       "      <td>2018</td>\n",
       "      <td>3</td>\n",
       "      <td>31</td>\n",
       "    </tr>\n",
       "    <tr>\n",
       "      <th>3</th>\n",
       "      <td>2018</td>\n",
       "      <td>4</td>\n",
       "      <td>44</td>\n",
       "    </tr>\n",
       "    <tr>\n",
       "      <th>4</th>\n",
       "      <td>2018</td>\n",
       "      <td>5</td>\n",
       "      <td>20</td>\n",
       "    </tr>\n",
       "    <tr>\n",
       "      <th>5</th>\n",
       "      <td>2018</td>\n",
       "      <td>6</td>\n",
       "      <td>9</td>\n",
       "    </tr>\n",
       "    <tr>\n",
       "      <th>6</th>\n",
       "      <td>2018</td>\n",
       "      <td>7</td>\n",
       "      <td>27</td>\n",
       "    </tr>\n",
       "    <tr>\n",
       "      <th>7</th>\n",
       "      <td>2018</td>\n",
       "      <td>8</td>\n",
       "      <td>14</td>\n",
       "    </tr>\n",
       "    <tr>\n",
       "      <th>8</th>\n",
       "      <td>2018</td>\n",
       "      <td>9</td>\n",
       "      <td>77</td>\n",
       "    </tr>\n",
       "    <tr>\n",
       "      <th>9</th>\n",
       "      <td>2018</td>\n",
       "      <td>10</td>\n",
       "      <td>74</td>\n",
       "    </tr>\n",
       "    <tr>\n",
       "      <th>10</th>\n",
       "      <td>2018</td>\n",
       "      <td>11</td>\n",
       "      <td>45</td>\n",
       "    </tr>\n",
       "    <tr>\n",
       "      <th>11</th>\n",
       "      <td>2018</td>\n",
       "      <td>12</td>\n",
       "      <td>11</td>\n",
       "    </tr>\n",
       "    <tr>\n",
       "      <th>12</th>\n",
       "      <td>2018</td>\n",
       "      <td>13</td>\n",
       "      <td>2</td>\n",
       "    </tr>\n",
       "    <tr>\n",
       "      <th>13</th>\n",
       "      <td>2018</td>\n",
       "      <td>14</td>\n",
       "      <td>20</td>\n",
       "    </tr>\n",
       "    <tr>\n",
       "      <th>14</th>\n",
       "      <td>2018</td>\n",
       "      <td>15</td>\n",
       "      <td>10</td>\n",
       "    </tr>\n",
       "    <tr>\n",
       "      <th>15</th>\n",
       "      <td>2018</td>\n",
       "      <td>16</td>\n",
       "      <td>1</td>\n",
       "    </tr>\n",
       "    <tr>\n",
       "      <th>16</th>\n",
       "      <td>2018</td>\n",
       "      <td>17</td>\n",
       "      <td>3</td>\n",
       "    </tr>\n",
       "    <tr>\n",
       "      <th>17</th>\n",
       "      <td>2018</td>\n",
       "      <td>18</td>\n",
       "      <td>3</td>\n",
       "    </tr>\n",
       "    <tr>\n",
       "      <th>18</th>\n",
       "      <td>2018</td>\n",
       "      <td>19</td>\n",
       "      <td>9</td>\n",
       "    </tr>\n",
       "    <tr>\n",
       "      <th>19</th>\n",
       "      <td>2018</td>\n",
       "      <td>20</td>\n",
       "      <td>2</td>\n",
       "    </tr>\n",
       "    <tr>\n",
       "      <th>20</th>\n",
       "      <td>2018</td>\n",
       "      <td>21</td>\n",
       "      <td>1</td>\n",
       "    </tr>\n",
       "    <tr>\n",
       "      <th>21</th>\n",
       "      <td>2018</td>\n",
       "      <td>22</td>\n",
       "      <td>5</td>\n",
       "    </tr>\n",
       "    <tr>\n",
       "      <th>22</th>\n",
       "      <td>2018</td>\n",
       "      <td>23</td>\n",
       "      <td>23</td>\n",
       "    </tr>\n",
       "    <tr>\n",
       "      <th>23</th>\n",
       "      <td>2018</td>\n",
       "      <td>24</td>\n",
       "      <td>28</td>\n",
       "    </tr>\n",
       "    <tr>\n",
       "      <th>24</th>\n",
       "      <td>2018</td>\n",
       "      <td>25</td>\n",
       "      <td>33</td>\n",
       "    </tr>\n",
       "    <tr>\n",
       "      <th>25</th>\n",
       "      <td>2018</td>\n",
       "      <td>26</td>\n",
       "      <td>8</td>\n",
       "    </tr>\n",
       "  </tbody>\n",
       "</table>\n",
       "</div>"
      ],
      "text/plain": [
       "    year  week  count\n",
       "0   2018     1      4\n",
       "1   2018     2     11\n",
       "2   2018     3     31\n",
       "3   2018     4     44\n",
       "4   2018     5     20\n",
       "5   2018     6      9\n",
       "6   2018     7     27\n",
       "7   2018     8     14\n",
       "8   2018     9     77\n",
       "9   2018    10     74\n",
       "10  2018    11     45\n",
       "11  2018    12     11\n",
       "12  2018    13      2\n",
       "13  2018    14     20\n",
       "14  2018    15     10\n",
       "15  2018    16      1\n",
       "16  2018    17      3\n",
       "17  2018    18      3\n",
       "18  2018    19      9\n",
       "19  2018    20      2\n",
       "20  2018    21      1\n",
       "21  2018    22      5\n",
       "22  2018    23     23\n",
       "23  2018    24     28\n",
       "24  2018    25     33\n",
       "25  2018    26      8"
      ]
     },
     "execution_count": 7,
     "metadata": {},
     "output_type": "execute_result"
    }
   ],
   "source": [
    "weekly_df"
   ]
  },
  {
   "cell_type": "markdown",
   "metadata": {},
   "source": [
    "Lets plot the dataframe `weekly_df` using matplotlib.pyplot. We use the `seaborn` theme and plot a simple line plot --- commit count vs time interval. Using the `plt.fill_between` method allows us to \"fill up\" the area between the line plot and the x axis."
   ]
  },
  {
   "cell_type": "code",
   "execution_count": 8,
   "metadata": {},
   "outputs": [
    {
     "data": {
      "text/plain": [
       "Text(0.5, 1.0, 'Commit Timeseries')"
      ]
     },
     "execution_count": 8,
     "metadata": {},
     "output_type": "execute_result"
    },
    {
     "data": {
      "image/png": "[encoded data removed]",
      "text/plain": [
       "<Figure size 576x396 with 1 Axes>"
      ]
     },
     "metadata": {},
     "output_type": "display_data"
    }
   ],
   "source": [
    "plt.style.use('seaborn')\n",
    "weekly_df.plot(y='count', use_index=True)\n",
    "plt.fill_between(y1=weekly_df['count'], y2=0, x=weekly_df.index)\n",
    "plt.title(\"Commit Timeseries\")"
   ]
  },
  {
   "cell_type": "markdown",
   "metadata": {},
   "source": [
    "The same thing can be tried for months, instead of weeks. By passing `month` in place of week, we get a similar dataframe but with only a few rows, due to the larger timescale. "
   ]
  },
  {
   "cell_type": "markdown",
   "metadata": {},
   "source": [
    "## Counting commits only made on the master branch\n",
    "Another option one has while using this class for analyzing git commit data is to include only those commits for analysis which are on the master branch. To do this, simply pass `True` for the `master_only` attribute of the compute function."
   ]
  },
  {
   "cell_type": "code",
   "execution_count": 9,
   "metadata": {},
   "outputs": [
    {
     "name": "stdout",
     "output_type": "stream",
     "text": [
      "The total number of commits made on the master branch is: 1913\n"
     ]
    }
   ],
   "source": [
    "print(\"The total number of commits made on the master branch is: {}\".format(changes.compute(master_only=True)))"
   ]
  },
  {
   "cell_type": "markdown",
   "metadata": {},
   "source": [
    "Lets do one last thing: the same thing we did in the cell above, but without including empty commits: "
   ]
  },
  {
   "cell_type": "code",
   "execution_count": 10,
   "metadata": {},
   "outputs": [
    {
     "name": "stdout",
     "output_type": "stream",
     "text": [
      "The total number of non-empty commits made on the master branch is: 1572\n"
     ]
    }
   ],
   "source": [
    "print(\"The total number of non-empty commits made on the master branch is: {}\".format(changes.compute(incl_empty=False, master_only=True)))"
   ]
  }
 ],
 "metadata": {
  "kernelspec": {
   "display_name": "Python 3",
   "language": "python",
   "name": "python3"
  },
  "language_info": {
   "codemirror_mode": {
    "name": "ipython",
    "version": 3
   },
   "file_extension": ".py",
   "mimetype": "text/x-python",
   "name": "python",
   "nbconvert_exporter": "python",
   "pygments_lexer": "ipython3",
   "version": "3.6.8"
  }
 },
 "nbformat": 4,
 "nbformat_minor": 2
}
