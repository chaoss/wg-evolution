{
 "cells": [
  {
   "cell_type": "markdown",
   "metadata": {},
   "source": [
    "## New_Contributors_of_Commits\n",
    "This is the reference implementation for [New Contributors of Commits](https://github.com/chaoss/wg-evolution/blob/master/metrics/pull-requests-merge-contributor-new.md),\n",
    "a metric specified by the\n",
    "[Evolution Working Group](https://github.com/chaoss/wg-evolution) of the\n",
    "[CHAOSS project](https://chaoss.community).\n",
    "This implementation is specific to Git repositories.\n",
    "\n",
    "Have a look at [README.md](README.md) to find out how to run this notebook (and others in this directory) as well as to get a better understanding of the purpose of the implementations.\n",
    "\n",
    "The implementation is described in two parts (see below):\n",
    "\n",
    "* Class for computing New_Contributors_of_Commits\n",
    "* An explanatory analysis of the class' functionality\n",
    "\n",
    "Some more auxiliary information in this notebook:\n",
    "\n",
    "* Examples of the use of the implementation\n",
    "* Visualizing the data extracted"
   ]
  },
  {
   "cell_type": "markdown",
   "metadata": {},
   "source": [
    "As discussed in the [README](README.md) file, the scripts required to analyze the data fetched by Perceval are located in the `code_df` package. Due to python's import system, to import modules from a package which is not in the current directory, we have to either add the package to `PYTHONPATH` or simply append a `..` to `sys.path`, so that `code_df` can be successfully imported. "
   ]
  },
  {
   "cell_type": "code",
   "execution_count": 1,
   "metadata": {},
   "outputs": [],
   "source": [
    "import pandas as pd\n",
    "from datetime import datetime\n",
    "import matplotlib.pyplot as plt\n",
    "import sys\n",
    "sys.path.append('..')\n",
    "from code_df import utils\n",
    "from code_df.is_source_code import IsSourceCode, ExtensionExclude\n",
    "from code_df.commit import Commit\n",
    "%matplotlib inline"
   ]
  },
  {
   "cell_type": "code",
   "execution_count": 2,
   "metadata": {},
   "outputs": [],
   "source": [
    "class NewContributorsoFCommits(Commit):\n",
    "    \"\"\"\n",
    "    Class for New contributors of commits.\n",
    "\n",
    "    :param items: A list of dictionaries, each element a line from the\n",
    "        JSON file with Perceval data\n",
    "    :param date_range: A tuple which represents the start and end date of\n",
    "        interest\n",
    "    :param issrccode_obj: An object of IsSourceCode, to be used to determine\n",
    "        what comprises source code.\n",
    "    \"\"\"\n",
    "\n",
    "    def __init__(self, items, date_range=(None, None), issrccode_obj=None):\n",
    "        super().__init__(items, date_range, issrccode_obj)\n",
    "\n",
    "    def compute(self, check_range=(None, None)):\n",
    "        \"\"\"\n",
    "        Count number of new committers who committed between the two dates\n",
    "        of check range.\n",
    "\n",
    "        :param check_range: A tuple which represents the start and end date\n",
    "            when new committers will be considered\n",
    "\n",
    "        :returns count: the number of new committers who committed\n",
    "            between the dates of check_range\n",
    "        \"\"\"\n",
    "        self.check_since, self.check_until = check_range\n",
    "\n",
    "        if self.check_since is None:\n",
    "            self.check_since = self.since\n",
    "\n",
    "        if self.check_until is None:\n",
    "            self.check_until = self.until\n",
    "\n",
    "        df = self.df[self.df['created_date'] < self.check_since]\n",
    "\n",
    "        committers_before_check_since = set()\n",
    "        committers_before_check_since = set(df['author'].tolist())\n",
    "        count_new_committers = 0\n",
    "        df_new_committers = self.df['author'][\n",
    "                    (self.check_since <= self.df['created_date'])\n",
    "                    & (self.check_until >= self.df['created_date'])\n",
    "                    & (~self.df['author']\n",
    "                        .isin(\n",
    "                            list(committers_before_check_since)))\n",
    "                ]\n",
    "        count_new_committers = len(df_new_committers.unique())\n",
    "        return count_new_committers\n",
    "\n",
    "    def compute_timeseries(self, period='month'):\n",
    "        \"\"\"\n",
    "        The metric value is computed for each fixed interval of time\n",
    "        from the \"since\" date to the \"until\" date arguments, specified\n",
    "        during object initiation.\n",
    "\n",
    "        The fixed time interval can be either a month or a week.\n",
    "\n",
    "        :param period: A string which can be either \"month\" or \"week\"\n",
    "\n",
    "        :returns dataframe: A DataFrame whose rows each represent an interval\n",
    "            of \"period\" and the count for that interval\n",
    "        \"\"\"\n",
    "        old_committers = set()\n",
    "\n",
    "        def count_new(series):\n",
    "            \"\"\"\n",
    "            An aggregate function that calculates only those values which\n",
    "            are new in a grouping as compared to a previous dataframe\n",
    "            grouping\n",
    "\n",
    "            :param series: a pandas Series\n",
    "\n",
    "            :returns count: the number of new elements in series\n",
    "            \"\"\"\n",
    "            nonlocal old_committers\n",
    "\n",
    "            count = len(series[~series.isin(list(old_committers))].unique())\n",
    "            old_committers.update(series.tolist())\n",
    "            return count\n",
    "\n",
    "        df = self.df\n",
    "        if period == 'month':\n",
    "            timeseries_series = df['author'] \\\n",
    "                .groupby([df['created_date'].dt.year.rename('year'),\n",
    "                          df['created_date'].dt.month.rename('month')]) \\\n",
    "                .agg(count_new)\n",
    "\n",
    "            all_periods = pd.DataFrame(\n",
    "                            pd.date_range(self.since, self.until, freq='M'),\n",
    "                            columns=['Dates'])\n",
    "            all_periods = pd.DataFrame(\n",
    "                [all_periods['Dates'].dt.year.rename('year'),\n",
    "                 all_periods['Dates'].dt.month.rename(\"month\")]).T\n",
    "\n",
    "        elif period == 'week':\n",
    "            timeseries_series = df['author'] \\\n",
    "                .groupby([df['created_date'].dt.year.rename('year'),\n",
    "                          df['created_date'].dt.week.rename('week')])   \\\n",
    "                .agg(count_new)\n",
    "\n",
    "            all_periods = pd.DataFrame(\n",
    "                            pd.date_range(self.since, self.until, freq='W'),\n",
    "                            columns=['Dates'])\n",
    "            all_periods = pd.DataFrame(\n",
    "                [all_periods['Dates'].dt.year.rename('year'),\n",
    "                 all_periods['Dates'].dt.week.rename('week')]).T\n",
    "\n",
    "        else:\n",
    "            raise ValueError(\"period parameter can take 'month' or 'week'\")\n",
    "\n",
    "        timeseries_df = pd.DataFrame(timeseries_series)\n",
    "        timeseries_df.reset_index(inplace=True)\n",
    "        timeseries_df.columns = ['year', period, 'new_committers']\n",
    "        merged_df = all_periods.merge(timeseries_df, how='outer').fillna(0)\n",
    "\n",
    "        dataframe = merged_df\n",
    "        return dataframe\n"
   ]
  },
  {
   "cell_type": "markdown",
   "metadata": {},
   "source": [
    "## Performing the Analysis\n",
    "Using the above class, we can perform several kinds of analysis on the JSON data file, fetched by Perceval. \n",
    "\n",
    "At its most basic, the `NewContributorsoFCommits` class can be used to get the number of contributors over the entire interval for which commits are considered, that is, all commits that lie between the `since` and `until` dates passed while creating an object for the above class.\n",
    "\n",
    "The `check_since` and `check_until` arguments are slightly different from `since` and `until`. While the latter talk about what commits in the data are even considered, `check_since` and `check_until` give us a range in which we actively look for new contributors of commits --- those who had not committed before `check_since`."
   ]
  },
  {
   "cell_type": "markdown",
   "metadata": {},
   "source": [
    "### Counting the total number of committers\n",
    "We first create a IsSourceCode object with a `ExtensionExclude` implementation, and then pass that as well the data of the JSON file as a list to NewContributorsoFCommits. To reiterate, this algorithm, which we are using to define source code checks the extensions of files to determine if they fall under the label of source code. We will also pass a list of extensions we want to exclude. "
   ]
  },
  {
   "cell_type": "code",
   "execution_count": 3,
   "metadata": {},
   "outputs": [],
   "source": [
    "sourcecode = IsSourceCode(source_code_exclude_list=['ipynb'], algorithm_class=ExtensionExclude)\n",
    "items = utils.read_JSON_file('../git-commits.json')"
   ]
  },
  {
   "cell_type": "markdown",
   "metadata": {},
   "source": [
    "Let's use the `compute` method to count the total number of valid commits made. First, we will do it without passing any `since` and `until` dates as well as no `check_since` and `check_until`. In the class above, we can see that if either of `check_since` or `check_until` are `None`, they are assigned the  corresponding value of `since` or `until`. What this means is that when no values are passed for `check_range`, which is the tuple with `check_since` and `check_until` as elements, every contributor to make a commit is a new contributor and hence, we get the total number of unique contributors between `since` and `until`. "
   ]
  },
  {
   "cell_type": "code",
   "execution_count": 4,
   "metadata": {},
   "outputs": [
    {
     "name": "stdout",
     "output_type": "stream",
     "text": [
      "The total number of new committers is: 29\n"
     ]
    }
   ],
   "source": [
    "new_committers = NewContributorsoFCommits(items, issrccode_obj=sourcecode)\n",
    "print(\"The total number of new committers is: {}\".format(new_committers.compute()))"
   ]
  },
  {
   "cell_type": "markdown",
   "metadata": {},
   "source": [
    "Now, lets give the `check_range` tuple as a subset of the `date_range` tuple, which has `since` and `until` as its elements. To keep it simple, lets pass no values for `date_range`. Since `since` and `until` are now `None`, they are reassigned the dates of the earliest and latest events in our data. \n",
    "Let `check_range` be between 2018-01-01 and 2018-07-01. "
   ]
  },
  {
   "cell_type": "code",
   "execution_count": 5,
   "metadata": {},
   "outputs": [
    {
     "name": "stdout",
     "output_type": "stream",
     "text": [
      "The total number of new committers between 2018-01-01 and 2018-07-01 in the file is: 10\n"
     ]
    }
   ],
   "source": [
    "date_since = datetime.strptime(\"2018-01-01\", \"%Y-%m-%d\")\n",
    "date_until = datetime.strptime(\"2018-07-01\", \"%Y-%m-%d\")\n",
    "new_committers_interval = NewContributorsoFCommits(\n",
    "                                                    items, \n",
    "                                                    (date_since, date_until), \n",
    "                                                    issrccode_obj=sourcecode)\n",
    "\n",
    "print(\"The total number of new committers between 2018-01-01 and 2018-07-01 in the file is: {}\"    \\\n",
    "                      .format(new_committers_interval.compute()))"
   ]
  },
  {
   "cell_type": "markdown",
   "metadata": {},
   "source": [
    "## Counting commits over regular time intervals\n",
    "Using the `compute_timeseries` method, it is possible to compute the number of new committers for every month, or for every week. This kind of analysis is useful in finding trends over time, as we will see in the cell below. Let's see the change in lets see the trend in the number of new committers who first committed between the same dates we used above, on a weekly basis: 2018-01-01 and 2018-07-01. We will use the same object we used when working with the dates above: `new_committers_interval`"
   ]
  },
  {
   "cell_type": "code",
   "execution_count": 6,
   "metadata": {},
   "outputs": [],
   "source": [
    "weekly_df = new_committers_interval.compute_timeseries(\"week\")"
   ]
  },
  {
   "cell_type": "markdown",
   "metadata": {},
   "source": [
    "Lets see what the dataframe returned by `compute_timeseries` looks like. As you will notice, the dataframe has rows corresponding to each and every week between the start and end dates. A simple merge between the dataframes of all possible weeks and the commit count dataframe (which would of course, be missing several rows(weeks) where there would be no commits) gave us this output. "
   ]
  },
  {
   "cell_type": "code",
   "execution_count": 7,
   "metadata": {},
   "outputs": [
    {
     "data": {
      "text/html": [
       "<div>\n",
       "<style scoped>\n",
       "    .dataframe tbody tr th:only-of-type {\n",
       "        vertical-align: middle;\n",
       "    }\n",
       "\n",
       "    .dataframe tbody tr th {\n",
       "        vertical-align: top;\n",
       "    }\n",
       "\n",
       "    .dataframe thead th {\n",
       "        text-align: right;\n",
       "    }\n",
       "</style>\n",
       "<table border=\"1\" class=\"dataframe\">\n",
       "  <thead>\n",
       "    <tr style=\"text-align: right;\">\n",
       "      <th></th>\n",
       "      <th>year</th>\n",
       "      <th>week</th>\n",
       "      <th>new_committers</th>\n",
       "    </tr>\n",
       "  </thead>\n",
       "  <tbody>\n",
       "    <tr>\n",
       "      <th>0</th>\n",
       "      <td>2018</td>\n",
       "      <td>1</td>\n",
       "      <td>2</td>\n",
       "    </tr>\n",
       "    <tr>\n",
       "      <th>1</th>\n",
       "      <td>2018</td>\n",
       "      <td>2</td>\n",
       "      <td>2</td>\n",
       "    </tr>\n",
       "    <tr>\n",
       "      <th>2</th>\n",
       "      <td>2018</td>\n",
       "      <td>3</td>\n",
       "      <td>1</td>\n",
       "    </tr>\n",
       "    <tr>\n",
       "      <th>3</th>\n",
       "      <td>2018</td>\n",
       "      <td>4</td>\n",
       "      <td>0</td>\n",
       "    </tr>\n",
       "    <tr>\n",
       "      <th>4</th>\n",
       "      <td>2018</td>\n",
       "      <td>5</td>\n",
       "      <td>0</td>\n",
       "    </tr>\n",
       "    <tr>\n",
       "      <th>5</th>\n",
       "      <td>2018</td>\n",
       "      <td>6</td>\n",
       "      <td>0</td>\n",
       "    </tr>\n",
       "    <tr>\n",
       "      <th>6</th>\n",
       "      <td>2018</td>\n",
       "      <td>7</td>\n",
       "      <td>1</td>\n",
       "    </tr>\n",
       "    <tr>\n",
       "      <th>7</th>\n",
       "      <td>2018</td>\n",
       "      <td>8</td>\n",
       "      <td>0</td>\n",
       "    </tr>\n",
       "    <tr>\n",
       "      <th>8</th>\n",
       "      <td>2018</td>\n",
       "      <td>9</td>\n",
       "      <td>0</td>\n",
       "    </tr>\n",
       "    <tr>\n",
       "      <th>9</th>\n",
       "      <td>2018</td>\n",
       "      <td>10</td>\n",
       "      <td>1</td>\n",
       "    </tr>\n",
       "    <tr>\n",
       "      <th>10</th>\n",
       "      <td>2018</td>\n",
       "      <td>11</td>\n",
       "      <td>0</td>\n",
       "    </tr>\n",
       "    <tr>\n",
       "      <th>11</th>\n",
       "      <td>2018</td>\n",
       "      <td>12</td>\n",
       "      <td>1</td>\n",
       "    </tr>\n",
       "    <tr>\n",
       "      <th>12</th>\n",
       "      <td>2018</td>\n",
       "      <td>13</td>\n",
       "      <td>0</td>\n",
       "    </tr>\n",
       "    <tr>\n",
       "      <th>13</th>\n",
       "      <td>2018</td>\n",
       "      <td>14</td>\n",
       "      <td>2</td>\n",
       "    </tr>\n",
       "    <tr>\n",
       "      <th>14</th>\n",
       "      <td>2018</td>\n",
       "      <td>15</td>\n",
       "      <td>0</td>\n",
       "    </tr>\n",
       "    <tr>\n",
       "      <th>15</th>\n",
       "      <td>2018</td>\n",
       "      <td>16</td>\n",
       "      <td>0</td>\n",
       "    </tr>\n",
       "    <tr>\n",
       "      <th>16</th>\n",
       "      <td>2018</td>\n",
       "      <td>17</td>\n",
       "      <td>0</td>\n",
       "    </tr>\n",
       "    <tr>\n",
       "      <th>17</th>\n",
       "      <td>2018</td>\n",
       "      <td>18</td>\n",
       "      <td>0</td>\n",
       "    </tr>\n",
       "    <tr>\n",
       "      <th>18</th>\n",
       "      <td>2018</td>\n",
       "      <td>19</td>\n",
       "      <td>0</td>\n",
       "    </tr>\n",
       "    <tr>\n",
       "      <th>19</th>\n",
       "      <td>2018</td>\n",
       "      <td>20</td>\n",
       "      <td>0</td>\n",
       "    </tr>\n",
       "    <tr>\n",
       "      <th>20</th>\n",
       "      <td>2018</td>\n",
       "      <td>21</td>\n",
       "      <td>0</td>\n",
       "    </tr>\n",
       "    <tr>\n",
       "      <th>21</th>\n",
       "      <td>2018</td>\n",
       "      <td>22</td>\n",
       "      <td>0</td>\n",
       "    </tr>\n",
       "    <tr>\n",
       "      <th>22</th>\n",
       "      <td>2018</td>\n",
       "      <td>23</td>\n",
       "      <td>0</td>\n",
       "    </tr>\n",
       "    <tr>\n",
       "      <th>23</th>\n",
       "      <td>2018</td>\n",
       "      <td>24</td>\n",
       "      <td>0</td>\n",
       "    </tr>\n",
       "    <tr>\n",
       "      <th>24</th>\n",
       "      <td>2018</td>\n",
       "      <td>25</td>\n",
       "      <td>0</td>\n",
       "    </tr>\n",
       "    <tr>\n",
       "      <th>25</th>\n",
       "      <td>2018</td>\n",
       "      <td>26</td>\n",
       "      <td>0</td>\n",
       "    </tr>\n",
       "  </tbody>\n",
       "</table>\n",
       "</div>"
      ],
      "text/plain": [
       "    year  week  new_committers\n",
       "0   2018     1               2\n",
       "1   2018     2               2\n",
       "2   2018     3               1\n",
       "3   2018     4               0\n",
       "4   2018     5               0\n",
       "5   2018     6               0\n",
       "6   2018     7               1\n",
       "7   2018     8               0\n",
       "8   2018     9               0\n",
       "9   2018    10               1\n",
       "10  2018    11               0\n",
       "11  2018    12               1\n",
       "12  2018    13               0\n",
       "13  2018    14               2\n",
       "14  2018    15               0\n",
       "15  2018    16               0\n",
       "16  2018    17               0\n",
       "17  2018    18               0\n",
       "18  2018    19               0\n",
       "19  2018    20               0\n",
       "20  2018    21               0\n",
       "21  2018    22               0\n",
       "22  2018    23               0\n",
       "23  2018    24               0\n",
       "24  2018    25               0\n",
       "25  2018    26               0"
      ]
     },
     "execution_count": 7,
     "metadata": {},
     "output_type": "execute_result"
    }
   ],
   "source": [
    "weekly_df"
   ]
  },
  {
   "cell_type": "markdown",
   "metadata": {},
   "source": [
    "Lets plot the dataframe `weekly_df` using matplotlib.pyplot. We use the `seaborn` theme and plot a simple bar plot --- `new_committer` count vs time interval. "
   ]
  },
  {
   "cell_type": "code",
   "execution_count": 8,
   "metadata": {},
   "outputs": [
    {
     "data": {
      "text/plain": [
       "Text(0.5, 1.0, 'Commit Timeseries')"
      ]
     },
     "execution_count": 8,
     "metadata": {},
     "output_type": "execute_result"
    },
    {
     "data": {
      "image/png": "[encoded data removed]",
      "text/plain": [
       "<Figure size 576x396 with 1 Axes>"
      ]
     },
     "metadata": {},
     "output_type": "display_data"
    }
   ],
   "source": [
    "plt.style.use('seaborn')\n",
    "weekly_df.plot(kind='bar', y='new_committers', use_index=True)\n",
    "plt.title(\"Commit Timeseries\")"
   ]
  },
  {
   "cell_type": "markdown",
   "metadata": {},
   "source": [
    "The same thing can be done for months, instead of weeks. By passing `month` in place of week, we get a similar dataframe but with only a few rows, due to the larger timescale of each period. "
   ]
  },
  {
   "cell_type": "code",
   "execution_count": null,
   "metadata": {},
   "outputs": [],
   "source": []
  }
 ],
 "metadata": {
  "kernelspec": {
   "display_name": "Python 3",
   "language": "python",
   "name": "python3"
  },
  "language_info": {
   "codemirror_mode": {
    "name": "ipython",
    "version": 3
   },
   "file_extension": ".py",
   "mimetype": "text/x-python",
   "name": "python",
   "nbconvert_exporter": "python",
   "pygments_lexer": "ipython3",
   "version": "3.6.8"
  }
 },
 "nbformat": 4,
 "nbformat_minor": 2
}
