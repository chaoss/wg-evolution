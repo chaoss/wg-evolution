{
 "cells": [
  {
   "cell_type": "markdown",
   "metadata": {},
   "source": [
    "## New_Contributors_of_Commits\n",
    "This is the reference implementation for [New Contributors of Commits](https://github.com/chaoss/wg-evolution/blob/master/metrics/pull-requests-merge-contributor-new.md),\n",
    "a metric specified by the\n",
    "[Evolution Working Group](https://github.com/chaoss/wg-evolution) of the\n",
    "[CHAOSS project](https://chaoss.community).\n",
    "This implementation is specific to Git repositories.\n",
    "\n",
    "Have a look at [README.md](../README.md) to find out how to run this notebook (and others in this directory) as well as to get a better understanding of the purpose of the implementations.\n",
    "\n",
    "The implementation is described in two parts (see below):\n",
    "\n",
    "* Class for computing New_Contributors_of_Commits\n",
    "* An explanatory analysis of the class' functionality\n",
    "\n",
    "Some more auxiliary information in this notebook:\n",
    "\n",
    "* Examples of the use of the implementation\n",
    "* Visualizing the data extracted"
   ]
  },
  {
   "cell_type": "markdown",
   "metadata": {},
   "source": [
    "As discussed in the [README](../README.md) file, the scripts required to analyze the data fetched by Perceval are located in the `code_df` package. Due to python's import system, to import modules from a package which is not in the current directory, we have to either add the package to `PYTHONPATH` or simply append a `..` to `sys.path`, so that `code_df` can be successfully imported. "
   ]
  },
  {
   "cell_type": "code",
   "execution_count": 1,
   "metadata": {},
   "outputs": [],
   "source": [
    "import pandas as pd\n",
    "from datetime import datetime\n",
    "import matplotlib.pyplot as plt\n",
    "\n",
    "import sys\n",
    "sys.path.append('..')\n",
    "\n",
    "from code_df import utils\n",
    "import code_df.conditions as conditions\n",
    "from code_df.commit import Commit\n",
    "\n",
    "%matplotlib inline"
   ]
  },
  {
   "cell_type": "code",
   "execution_count": 2,
   "metadata": {},
   "outputs": [],
   "source": [
    "class NewContributorsOfCommits(Commit):\n",
    "    \"\"\"\n",
    "    Class for New contributors of commits.\n",
    "    \"\"\"\n",
    "\n",
    "    def compute(self, check_range=(None, None)):\n",
    "        \"\"\"\n",
    "        Count number of new committers who committed between the two dates\n",
    "        of check range.\n",
    "\n",
    "        :param check_range: A tuple which represents the start and end date\n",
    "            when new committers will be considered\n",
    "\n",
    "        :returns count: the number of new committers who committed\n",
    "            between the dates of check_range\n",
    "        \"\"\"\n",
    "\n",
    "        self.check_since, self.check_until = check_range\n",
    "\n",
    "        df = pd.DataFrame(columns=self.df.columns)\n",
    "\n",
    "        if self.check_since is not None:\n",
    "            df = self.df[self.df['created_date'] < self.check_since]\n",
    "\n",
    "        committers_before_check_since = set(df['author'].tolist())\n",
    "\n",
    "        df_new_committers = self.df['author'][\n",
    "                    (~self.df['author']\n",
    "                        .isin(\n",
    "                            list(committers_before_check_since)))\n",
    "                ]\n",
    "\n",
    "        if self.check_since is not None:\n",
    "            df_new_committers = df_new_committers[\n",
    "                self.check_since <= self.df['created_date']]\n",
    "\n",
    "        if self.check_until is not None:\n",
    "            df_new_committers = df_new_committers[\n",
    "                self.check_until >= self.df['created_date']]\n",
    "\n",
    "        count_new_committers = len(df_new_committers.unique())\n",
    "        return count_new_committers\n",
    "\n",
    "    def _agg(self, df, period):\n",
    "        \"\"\"\n",
    "        Call an aggregation operation on a DataFrame or Series\n",
    "        to count the number of new committers in a period when\n",
    "        compared to the previous period.\n",
    "\n",
    "        :param df: a pandas DataFrame on which the aggregation will be\n",
    "            applied.\n",
    "\n",
    "        :param period: A string which can be any one of the pandas time\n",
    "            series rules:\n",
    "            'W': week\n",
    "            'M': month\n",
    "            'D': day\n",
    "\n",
    "        :returns df: The final aggregated DataFrame\n",
    "        \"\"\"\n",
    "\n",
    "        def __new_committers_count(series):\n",
    "            \"\"\"\n",
    "            Aggregation method to count the number of new committers\n",
    "            per period.\n",
    "\n",
    "            The set of names of people who committed before the current\n",
    "            period is stored in old_committers and any new committers\n",
    "            in the current period whose names are not in old_committers\n",
    "            are counted.\n",
    "\n",
    "            :param series: a pandas DataFrame on which the aggregation will be\n",
    "                applied.\n",
    "\n",
    "            :param period: A string which can be any one of the pandas time\n",
    "                series rules:\n",
    "                'W': week\n",
    "                'M': month\n",
    "                'D': day\n",
    "\n",
    "            :returns count: The number of new committers\n",
    "            \"\"\"\n",
    "            if len(series) > 0:\n",
    "                old_committers = \\\n",
    "                    set(\n",
    "                        self.df['author'][\n",
    "                            self.df['created_date'] < series.index[0]]\n",
    "                        .tolist())\n",
    "\n",
    "                count = len(series[~series.isin(list(old_committers))]\n",
    "                            .unique())\n",
    "                old_committers.update(series.tolist())\n",
    "                return count\n",
    "\n",
    "            else:\n",
    "                return 0\n",
    "\n",
    "        df = df.resample(period)['author'].agg([__new_committers_count])\n",
    "        return df\n"
   ]
  },
  {
   "cell_type": "markdown",
   "metadata": {},
   "source": [
    "## Performing the Analysis\n",
    "Using the above class, we can perform several kinds of analysis on the JSON data file, fetched by Perceval. \n",
    "\n",
    "At its most basic, the `NewContributorsOfCommits` class can be used to get the number of contributors over the entire interval for which commits are considered, that is, all commits that lie between the `since` and `until` dates passed while creating an object for the above class.\n",
    "\n",
    "The `check_since` and `check_until` arguments are slightly different from `since` and `until`. While the latter talk about what commits in the data are even considered, `check_since` and `check_until` give us a range in which we actively look for new contributors of commits --- those who had not committed before `check_since`."
   ]
  },
  {
   "cell_type": "markdown",
   "metadata": {},
   "source": [
    "### Counting the total number of committers\n",
    "We pass the data of the JSON file as a list to NewContributorsOfCommits to start off. "
   ]
  },
  {
   "cell_type": "code",
   "execution_count": 3,
   "metadata": {},
   "outputs": [],
   "source": [
    "items = utils.read_json_file('../git-commits.json')"
   ]
  },
  {
   "cell_type": "markdown",
   "metadata": {},
   "source": [
    "Let's use the `compute` method to count the total number of valid commits made. First, we will do it without passing any `since` and `until` dates as well as no `check_since` and `check_until`. In the class above, we can see that if either of `check_since` or `check_until` are `None`, they are assigned the  corresponding value of `since` or `until`. What this means is that when no values are passed for `check_range`, which is the tuple with `check_since` and `check_until` as elements, every contributor to make a commit is a new contributor and hence, we get the total number of unique contributors between `since` and `until`. "
   ]
  },
  {
   "cell_type": "code",
   "execution_count": 4,
   "metadata": {},
   "outputs": [
    {
     "name": "stdout",
     "output_type": "stream",
     "text": [
      "The total number of new committers is 29.\n"
     ]
    }
   ],
   "source": [
    "new_committers = NewContributorsOfCommits(items)\n",
    "print(\"The total number of new committers is {}.\".format(new_committers.compute()))"
   ]
  },
  {
   "cell_type": "markdown",
   "metadata": {},
   "source": [
    "### Counting contributors in a specific range"
   ]
  },
  {
   "cell_type": "markdown",
   "metadata": {},
   "source": [
    "Now, lets give the `check_range` tuple as a subset of the `date_range` tuple, which has `since` and `until` as its elements. Lets pass 2018-01-01 and 2018-07-01 for `date_range`. Let `check_range` be between 2018-03-08 and 2018-06-08. \n",
    "We'll also add some filters on the number of commits: \n",
    "- exclude any commits that work solely on the tests directory\n",
    "- exclude any commits solely dealing with markdown(.md) and files with the "
   ]
  },
  {
   "cell_type": "code",
   "execution_count": 5,
   "metadata": {},
   "outputs": [
    {
     "name": "stdout",
     "output_type": "stream",
     "text": [
      "The total number of new committers between 2018-01-01 and 2018-07-01 in the file is 10.\n"
     ]
    }
   ],
   "source": [
    "date_since = datetime.strptime(\"2018-01-01\", \"%Y-%m-%d\")\n",
    "date_until = datetime.strptime(\"2018-07-01\", \"%Y-%m-%d\")\n",
    "new_committers_interval = NewContributorsOfCommits(\n",
    "                                                    items, \n",
    "                                                    (date_since, date_until), \n",
    "                                                    is_code=[conditions.DirExclude(['tests']),\n",
    "                                                             conditions.PostfixExclude(['.md', 'COPYING'])])\n",
    "\n",
    "print(\"The total number of new committers between 2018-01-01 and 2018-07-01 in the file is {}.\"    \\\n",
    "                      .format(new_committers_interval.compute()))"
   ]
  },
  {
   "cell_type": "markdown",
   "metadata": {},
   "source": [
    "## Counting commits over regular time intervals\n",
    "Using the `time_series` method, it is possible to compute the number of new committers for every month, or for every week. This kind of analysis is useful in finding trends over time, as we will see in the cell below. Let's see the change in lets see the trend in the number of new committers who first committed between the same dates we used above, on a weekly basis: 2018-01-01 and 2018-07-01. We will use the same object we used when working with the dates above: `new_committers_interval`"
   ]
  },
  {
   "cell_type": "code",
   "execution_count": 6,
   "metadata": {},
   "outputs": [],
   "source": [
    "weekly_df = new_committers_interval.time_series(cols=['author'], period='W')"
   ]
  },
  {
   "cell_type": "markdown",
   "metadata": {},
   "source": [
    "Lets see what the dataframe returned by `time_series` looks like. As you will notice, the dataframe has rows corresponding to each and every week between the start and end dates. A simple merge between the dataframes of all possible weeks and the commit count dataframe (which would of course, be missing several rows(weeks) where there would be no commits) gave us this output. "
   ]
  },
  {
   "cell_type": "code",
   "execution_count": 7,
   "metadata": {},
   "outputs": [
    {
     "data": {
      "text/html": [
       "<div>\n",
       "<style scoped>\n",
       "    .dataframe tbody tr th:only-of-type {\n",
       "        vertical-align: middle;\n",
       "    }\n",
       "\n",
       "    .dataframe tbody tr th {\n",
       "        vertical-align: top;\n",
       "    }\n",
       "\n",
       "    .dataframe thead th {\n",
       "        text-align: right;\n",
       "    }\n",
       "</style>\n",
       "<table border=\"1\" class=\"dataframe\">\n",
       "  <thead>\n",
       "    <tr style=\"text-align: right;\">\n",
       "      <th></th>\n",
       "      <th>new_committers</th>\n",
       "    </tr>\n",
       "    <tr>\n",
       "      <th>created_date</th>\n",
       "      <th></th>\n",
       "    </tr>\n",
       "  </thead>\n",
       "  <tbody>\n",
       "    <tr>\n",
       "      <th>2018-01-07</th>\n",
       "      <td>2</td>\n",
       "    </tr>\n",
       "    <tr>\n",
       "      <th>2018-01-14</th>\n",
       "      <td>2</td>\n",
       "    </tr>\n",
       "    <tr>\n",
       "      <th>2018-01-21</th>\n",
       "      <td>1</td>\n",
       "    </tr>\n",
       "    <tr>\n",
       "      <th>2018-01-28</th>\n",
       "      <td>0</td>\n",
       "    </tr>\n",
       "    <tr>\n",
       "      <th>2018-02-04</th>\n",
       "      <td>0</td>\n",
       "    </tr>\n",
       "    <tr>\n",
       "      <th>2018-02-11</th>\n",
       "      <td>0</td>\n",
       "    </tr>\n",
       "    <tr>\n",
       "      <th>2018-02-18</th>\n",
       "      <td>1</td>\n",
       "    </tr>\n",
       "    <tr>\n",
       "      <th>2018-02-25</th>\n",
       "      <td>0</td>\n",
       "    </tr>\n",
       "    <tr>\n",
       "      <th>2018-03-04</th>\n",
       "      <td>0</td>\n",
       "    </tr>\n",
       "    <tr>\n",
       "      <th>2018-03-11</th>\n",
       "      <td>1</td>\n",
       "    </tr>\n",
       "    <tr>\n",
       "      <th>2018-03-18</th>\n",
       "      <td>0</td>\n",
       "    </tr>\n",
       "    <tr>\n",
       "      <th>2018-03-25</th>\n",
       "      <td>1</td>\n",
       "    </tr>\n",
       "    <tr>\n",
       "      <th>2018-04-01</th>\n",
       "      <td>0</td>\n",
       "    </tr>\n",
       "    <tr>\n",
       "      <th>2018-04-08</th>\n",
       "      <td>2</td>\n",
       "    </tr>\n",
       "    <tr>\n",
       "      <th>2018-04-15</th>\n",
       "      <td>0</td>\n",
       "    </tr>\n",
       "    <tr>\n",
       "      <th>2018-04-22</th>\n",
       "      <td>0</td>\n",
       "    </tr>\n",
       "    <tr>\n",
       "      <th>2018-04-29</th>\n",
       "      <td>0</td>\n",
       "    </tr>\n",
       "    <tr>\n",
       "      <th>2018-05-06</th>\n",
       "      <td>0</td>\n",
       "    </tr>\n",
       "    <tr>\n",
       "      <th>2018-05-13</th>\n",
       "      <td>0</td>\n",
       "    </tr>\n",
       "    <tr>\n",
       "      <th>2018-05-20</th>\n",
       "      <td>0</td>\n",
       "    </tr>\n",
       "    <tr>\n",
       "      <th>2018-05-27</th>\n",
       "      <td>0</td>\n",
       "    </tr>\n",
       "    <tr>\n",
       "      <th>2018-06-03</th>\n",
       "      <td>0</td>\n",
       "    </tr>\n",
       "    <tr>\n",
       "      <th>2018-06-10</th>\n",
       "      <td>0</td>\n",
       "    </tr>\n",
       "    <tr>\n",
       "      <th>2018-06-17</th>\n",
       "      <td>0</td>\n",
       "    </tr>\n",
       "    <tr>\n",
       "      <th>2018-06-24</th>\n",
       "      <td>0</td>\n",
       "    </tr>\n",
       "    <tr>\n",
       "      <th>2018-07-01</th>\n",
       "      <td>0</td>\n",
       "    </tr>\n",
       "  </tbody>\n",
       "</table>\n",
       "</div>"
      ],
      "text/plain": [
       "              new_committers\n",
       "created_date                \n",
       "2018-01-07                 2\n",
       "2018-01-14                 2\n",
       "2018-01-21                 1\n",
       "2018-01-28                 0\n",
       "2018-02-04                 0\n",
       "2018-02-11                 0\n",
       "2018-02-18                 1\n",
       "2018-02-25                 0\n",
       "2018-03-04                 0\n",
       "2018-03-11                 1\n",
       "2018-03-18                 0\n",
       "2018-03-25                 1\n",
       "2018-04-01                 0\n",
       "2018-04-08                 2\n",
       "2018-04-15                 0\n",
       "2018-04-22                 0\n",
       "2018-04-29                 0\n",
       "2018-05-06                 0\n",
       "2018-05-13                 0\n",
       "2018-05-20                 0\n",
       "2018-05-27                 0\n",
       "2018-06-03                 0\n",
       "2018-06-10                 0\n",
       "2018-06-17                 0\n",
       "2018-06-24                 0\n",
       "2018-07-01                 0"
      ]
     },
     "execution_count": 7,
     "metadata": {},
     "output_type": "execute_result"
    }
   ],
   "source": [
    "weekly_df"
   ]
  },
  {
   "cell_type": "markdown",
   "metadata": {},
   "source": [
    "Lets plot the dataframe `weekly_df` using matplotlib.pyplot. We use the `seaborn` theme and plot a simple bar plot --- `new_committer` count vs time interval. "
   ]
  },
  {
   "cell_type": "code",
   "execution_count": 8,
   "metadata": {},
   "outputs": [
    {
     "data": {
      "image/png": "[encoded data removed]",
      "text/plain": [
       "<Figure size 576x396 with 1 Axes>"
      ]
     },
     "metadata": {},
     "output_type": "display_data"
    }
   ],
   "source": [
    "plt.style.use('seaborn')\n",
    "weekly_df.plot(kind='bar', y='new_committers', use_index=False)\n",
    "plt.xticks([t.week - 2 for t in weekly_df.index]);\n",
    "plt.title(\"New Committers\");"
   ]
  },
  {
   "cell_type": "markdown",
   "metadata": {},
   "source": [
    "The same thing can be done for months, instead of weeks. By passing `month` in place of week, we get a similar dataframe but with only a few rows, due to the larger timescale of each period. "
   ]
  }
 ],
 "metadata": {
  "kernelspec": {
   "display_name": "Python 3",
   "language": "python",
   "name": "python3"
  },
  "language_info": {
   "codemirror_mode": {
    "name": "ipython",
    "version": 3
   },
   "file_extension": ".py",
   "mimetype": "text/x-python",
   "name": "python",
   "nbconvert_exporter": "python",
   "pygments_lexer": "ipython3",
   "version": "3.6.8"
  }
 },
 "nbformat": 4,
 "nbformat_minor": 2
}
