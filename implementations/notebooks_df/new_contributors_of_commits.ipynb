{
 "cells": [
  {
   "cell_type": "markdown",
   "metadata": {},
   "source": [
    "## New_Contributors_of_Commits\n",
    "This is the reference implementation for [New Contributors of Commits](https://github.com/chaoss/wg-evolution/blob/master/metrics/pull-requests-merge-contributor-new.md),\n",
    "a metric specified by the\n",
    "[Evolution Working Group](https://github.com/chaoss/wg-evolution) of the\n",
    "[CHAOSS project](https://chaoss.community).\n",
    "This implementation is specific to Git repositories.\n",
    "\n",
    "Have a look at [README.md](../README.md) to find out how to run this notebook (and others in this directory) as well as to get a better understanding of the purpose of the implementations.\n",
    "\n",
    "The implementation is described in two parts (see below):\n",
    "\n",
    "* Class for computing New_Contributors_of_Commits\n",
    "* An explanatory analysis of the class' functionality\n",
    "\n",
    "Some more auxiliary information in this notebook:\n",
    "\n",
    "* Examples of the use of the implementation\n",
    "* Visualizing the data extracted"
   ]
  },
  {
   "cell_type": "markdown",
   "metadata": {},
   "source": [
    "As discussed in the [README](../README.md) file, the scripts required to analyze the data fetched by Perceval are located in the `code_df` package. Due to python's import system, to import modules from a package which is not in the current directory, we have to either add the package to `PYTHONPATH` or simply append a `..` to `sys.path`, so that `code_df` can be successfully imported. "
   ]
  },
  {
   "cell_type": "code",
   "execution_count": 1,
   "metadata": {},
   "outputs": [],
   "source": [
    "import pandas as pd\n",
    "from datetime import datetime\n",
    "import matplotlib.pyplot as plt\n",
    "\n",
    "import sys\n",
    "sys.path.append('..')\n",
    "\n",
    "from code_df import utils\n",
    "import code_df.conditions as conditions\n",
    "from code_df.commit import Commit\n",
    "\n",
    "%matplotlib inline"
   ]
  },
  {
   "cell_type": "code",
   "execution_count": 2,
   "metadata": {},
   "outputs": [],
   "source": [
    "class NewContributorsOfCommits(Commit):\n",
    "    \"\"\"\n",
    "    Initilizes self.df, the dataframe with one commit per row.\n",
    "\n",
    "    :param items: A list of dictionaries.\n",
    "        Each item is a Perceval dictionary, obtained from a JSON\n",
    "        file or from Perceval directly.\n",
    "\n",
    "    :param date_range: A tuple which represents the period of interest\n",
    "        It is of the form (since, until), where since and until are strings.\n",
    "        Either, or both can be None. If, for example, since is None, that\n",
    "        would mean that all commits from the first commit to the commit\n",
    "        who last falls inside the until range will be included.\n",
    "\n",
    "    :param is_code:  list of CodeCondition objects\n",
    "        It is used to determine what comprises source code.\n",
    "        \"\"\"\n",
    "\n",
    "    def __init__(self, items, date_range=(None, None),\n",
    "                 is_code=[conditions.Naive()], conds=[]):\n",
    "\n",
    "        super().__init__(items, date_range, is_code, conds)\n",
    "\n",
    "        self.df = self.df.loc[self.df.groupby('author')['created_date'].idxmin()]\n",
    "\n",
    "    def compute(self, check_range=(None, None)):\n",
    "        \"\"\"\n",
    "        Count number of new committers who committed between the two dates\n",
    "        of check range.\n",
    "\n",
    "        :param check_range: A tuple which represents the start and end date\n",
    "            when new committers will be considered\n",
    "\n",
    "        :returns count_new_committers: the number of new committers who committed\n",
    "            between the dates of check_range\n",
    "        \"\"\"\n",
    "\n",
    "        self.check_since, self.check_until = check_range\n",
    "\n",
    "        df = self.df\n",
    "\n",
    "        if self.check_since is not None:\n",
    "            df = df[df['created_date'] < self.check_since]\n",
    "\n",
    "        if self.check_until is not None:\n",
    "            df = df[df['created_date'] >= self.check_until]\n",
    "\n",
    "        count_new_committers = len(df.index)\n",
    "        return count_new_committers\n",
    "\n",
    "    def _agg(self, df, period):\n",
    "        \"\"\"\n",
    "        Perform an aggregation operation on a DataFrame or Series\n",
    "        to count the number of new committers in a period when\n",
    "        compared to committers before that period.\n",
    "\n",
    "        This method uses the 'count' aggregation method.\n",
    "\n",
    "        :param df: a pandas DataFrame on which the aggregation will be\n",
    "            applied.\n",
    "\n",
    "        :param period: A string which can be any one of the pandas time\n",
    "            series rules:\n",
    "            'W': week\n",
    "            'M': month\n",
    "            'D': day\n",
    "\n",
    "        :returns df: The final aggregated DataFrame\n",
    "        \"\"\"\n",
    "\n",
    "        df = df.resample(period)['author'].agg(['count'])\n",
    "        return df"
   ]
  },
  {
   "cell_type": "markdown",
   "metadata": {},
   "source": [
    "## Performing the Analysis\n",
    "Using the above class, we can perform several kinds of analysis on the JSON data file, fetched by Perceval. \n",
    "\n",
    "At its most basic, the `NewContributorsOfCommits` class can be used to get the number of contributors over the entire interval for which commits are considered, that is, all commits that lie between the `since` and `until` dates passed while creating an object for the above class.\n",
    "\n",
    "The `check_since` and `check_until` arguments are slightly different from `since` and `until`. While the latter talk about what commits in the data are even considered, `check_since` and `check_until` give us a range in which we actively look for new contributors of commits --- those who had not committed before `check_since`."
   ]
  },
  {
   "cell_type": "markdown",
   "metadata": {},
   "source": [
    "### Counting the total number of committers\n",
    "We pass the data of the JSON file as a list to NewContributorsOfCommits to start off. "
   ]
  },
  {
   "cell_type": "code",
   "execution_count": 3,
   "metadata": {},
   "outputs": [],
   "source": [
    "items = utils.read_json_file('../git-commits.json')"
   ]
  },
  {
   "cell_type": "markdown",
   "metadata": {},
   "source": [
    "Let's use the `compute` method to count the total number of valid commits made. First, we will do it without passing any `since` and `until` dates as well as no `check_since` and `check_until`. In the class above, we can see that if either of `check_since` or `check_until` are `None`, they are assigned the  corresponding value of `since` or `until`. What this means is that when no values are passed for `check_range`, which is the tuple with `check_since` and `check_until` as elements, every contributor to make a commit is a new contributor and hence, we get the total number of unique contributors between `since` and `until`. "
   ]
  },
  {
   "cell_type": "code",
   "execution_count": 4,
   "metadata": {},
   "outputs": [
    {
     "name": "stdout",
     "output_type": "stream",
     "text": [
      "The total number of new committers is 29.\n"
     ]
    }
   ],
   "source": [
    "new_committers = NewContributorsOfCommits(items)\n",
    "print(\"The total number of new committers is {}.\".format(new_committers.compute()))"
   ]
  },
  {
   "cell_type": "markdown",
   "metadata": {},
   "source": [
    "### Counting contributors in a specific range"
   ]
  },
  {
   "cell_type": "markdown",
   "metadata": {},
   "source": [
    "Now, lets give the `check_range` tuple as a subset of the `date_range` tuple, which has `since` and `until` as its elements. Lets pass 2018-01-01 and 2018-07-01 for `date_range`. Let `check_range` be between 2018-03-08 and 2018-06-08. \n",
    "We'll also add some filters on the number of commits: \n",
    "- exclude any commits that work solely on the tests directory\n",
    "- exclude any commits solely dealing with markdown(.md) and files with the "
   ]
  },
  {
   "cell_type": "code",
   "execution_count": 5,
   "metadata": {},
   "outputs": [
    {
     "name": "stdout",
     "output_type": "stream",
     "text": [
      "The total number of new committers between 2018-01-01 and 2018-07-01 in the file is 10.\n"
     ]
    }
   ],
   "source": [
    "date_since = datetime.strptime(\"2018-01-01\", \"%Y-%m-%d\")\n",
    "date_until = datetime.strptime(\"2018-07-01\", \"%Y-%m-%d\")\n",
    "new_committers_interval = NewContributorsOfCommits(\n",
    "                                                    items, \n",
    "                                                    (date_since, date_until), \n",
    "                                                    is_code=[conditions.DirExclude(['tests']),\n",
    "                                                             conditions.PostfixExclude(['.md', 'COPYING'])])\n",
    "\n",
    "print(\"The total number of new committers between 2018-01-01 and 2018-07-01 in the file is {}.\"    \\\n",
    "                      .format(new_committers_interval.compute()))"
   ]
  },
  {
   "cell_type": "markdown",
   "metadata": {},
   "source": [
    "## Counting commits over regular time intervals\n",
    "Using the `time_series` method, it is possible to compute the number of new committers for every month, or for every week. This kind of analysis is useful in finding trends over time, as we will see in the cell below. Let's see the change in lets see the trend in the number of new committers who first committed between the same dates we used above, on a weekly basis: 2018-01-01 and 2018-07-01. We will use the same object we used when working with the dates above: `new_committers_interval`"
   ]
  },
  {
   "cell_type": "code",
   "execution_count": 6,
   "metadata": {},
   "outputs": [],
   "source": [
    "weekly_df = new_committers_interval.time_series(period='W')"
   ]
  },
  {
   "cell_type": "markdown",
   "metadata": {},
   "source": [
    "Lets see what the dataframe returned by `time_series` looks like. As you will notice, the dataframe has rows corresponding to the weeks between the dates passed. This was done by performing a simple resampling with the desired time period."
   ]
  },
  {
   "cell_type": "code",
   "execution_count": 7,
   "metadata": {},
   "outputs": [
    {
     "data": {
      "text/html": [
       "<div>\n",
       "<style scoped>\n",
       "    .dataframe tbody tr th:only-of-type {\n",
       "        vertical-align: middle;\n",
       "    }\n",
       "\n",
       "    .dataframe tbody tr th {\n",
       "        vertical-align: top;\n",
       "    }\n",
       "\n",
       "    .dataframe thead th {\n",
       "        text-align: right;\n",
       "    }\n",
       "</style>\n",
       "<table border=\"1\" class=\"dataframe\">\n",
       "  <thead>\n",
       "    <tr style=\"text-align: right;\">\n",
       "      <th></th>\n",
       "      <th>count</th>\n",
       "    </tr>\n",
       "    <tr>\n",
       "      <th>created_date</th>\n",
       "      <th></th>\n",
       "    </tr>\n",
       "  </thead>\n",
       "  <tbody>\n",
       "    <tr>\n",
       "      <th>2018-01-07</th>\n",
       "      <td>2</td>\n",
       "    </tr>\n",
       "    <tr>\n",
       "      <th>2018-01-14</th>\n",
       "      <td>2</td>\n",
       "    </tr>\n",
       "    <tr>\n",
       "      <th>2018-01-21</th>\n",
       "      <td>1</td>\n",
       "    </tr>\n",
       "    <tr>\n",
       "      <th>2018-01-28</th>\n",
       "      <td>0</td>\n",
       "    </tr>\n",
       "    <tr>\n",
       "      <th>2018-02-04</th>\n",
       "      <td>0</td>\n",
       "    </tr>\n",
       "    <tr>\n",
       "      <th>2018-02-11</th>\n",
       "      <td>0</td>\n",
       "    </tr>\n",
       "    <tr>\n",
       "      <th>2018-02-18</th>\n",
       "      <td>1</td>\n",
       "    </tr>\n",
       "    <tr>\n",
       "      <th>2018-02-25</th>\n",
       "      <td>0</td>\n",
       "    </tr>\n",
       "    <tr>\n",
       "      <th>2018-03-04</th>\n",
       "      <td>0</td>\n",
       "    </tr>\n",
       "    <tr>\n",
       "      <th>2018-03-11</th>\n",
       "      <td>1</td>\n",
       "    </tr>\n",
       "    <tr>\n",
       "      <th>2018-03-18</th>\n",
       "      <td>0</td>\n",
       "    </tr>\n",
       "    <tr>\n",
       "      <th>2018-03-25</th>\n",
       "      <td>1</td>\n",
       "    </tr>\n",
       "    <tr>\n",
       "      <th>2018-04-01</th>\n",
       "      <td>0</td>\n",
       "    </tr>\n",
       "    <tr>\n",
       "      <th>2018-04-08</th>\n",
       "      <td>2</td>\n",
       "    </tr>\n",
       "  </tbody>\n",
       "</table>\n",
       "</div>"
      ],
      "text/plain": [
       "              count\n",
       "created_date       \n",
       "2018-01-07        2\n",
       "2018-01-14        2\n",
       "2018-01-21        1\n",
       "2018-01-28        0\n",
       "2018-02-04        0\n",
       "2018-02-11        0\n",
       "2018-02-18        1\n",
       "2018-02-25        0\n",
       "2018-03-04        0\n",
       "2018-03-11        1\n",
       "2018-03-18        0\n",
       "2018-03-25        1\n",
       "2018-04-01        0\n",
       "2018-04-08        2"
      ]
     },
     "execution_count": 7,
     "metadata": {},
     "output_type": "execute_result"
    }
   ],
   "source": [
    "weekly_df"
   ]
  },
  {
   "cell_type": "markdown",
   "metadata": {},
   "source": [
    "Lets plot the dataframe `weekly_df` using matplotlib.pyplot. We use the `seaborn` theme and plot a simple bar plot --- `new_committer` count vs time interval. "
   ]
  },
  {
   "cell_type": "code",
   "execution_count": 8,
   "metadata": {},
   "outputs": [
    {
     "data": {
      "image/png": "[encoded data removed]",
      "text/plain": [
       "<Figure size 576x396 with 1 Axes>"
      ]
     },
     "metadata": {},
     "output_type": "display_data"
    }
   ],
   "source": [
    "plt.style.use('seaborn')\n",
    "weekly_df.plot(kind='bar', y='count', use_index=False)\n",
    "plt.title(\"New Committers\");"
   ]
  },
  {
   "cell_type": "markdown",
   "metadata": {},
   "source": [
    "The same thing can be done for months, instead of weeks. By passing `month` in place of week, we get a similar dataframe but with only a few rows, due to the larger timescale of each period. "
   ]
  },
  {
   "cell_type": "code",
   "execution_count": 9,
   "metadata": {},
   "outputs": [],
   "source": [
    "monthly_df = new_committers_interval.time_series(period='M')"
   ]
  },
  {
   "cell_type": "code",
   "execution_count": 10,
   "metadata": {},
   "outputs": [
    {
     "data": {
      "text/html": [
       "<div>\n",
       "<style scoped>\n",
       "    .dataframe tbody tr th:only-of-type {\n",
       "        vertical-align: middle;\n",
       "    }\n",
       "\n",
       "    .dataframe tbody tr th {\n",
       "        vertical-align: top;\n",
       "    }\n",
       "\n",
       "    .dataframe thead th {\n",
       "        text-align: right;\n",
       "    }\n",
       "</style>\n",
       "<table border=\"1\" class=\"dataframe\">\n",
       "  <thead>\n",
       "    <tr style=\"text-align: right;\">\n",
       "      <th></th>\n",
       "      <th>count</th>\n",
       "    </tr>\n",
       "    <tr>\n",
       "      <th>created_date</th>\n",
       "      <th></th>\n",
       "    </tr>\n",
       "  </thead>\n",
       "  <tbody>\n",
       "    <tr>\n",
       "      <th>2018-01-31</th>\n",
       "      <td>5</td>\n",
       "    </tr>\n",
       "    <tr>\n",
       "      <th>2018-02-28</th>\n",
       "      <td>1</td>\n",
       "    </tr>\n",
       "    <tr>\n",
       "      <th>2018-03-31</th>\n",
       "      <td>2</td>\n",
       "    </tr>\n",
       "    <tr>\n",
       "      <th>2018-04-30</th>\n",
       "      <td>2</td>\n",
       "    </tr>\n",
       "  </tbody>\n",
       "</table>\n",
       "</div>"
      ],
      "text/plain": [
       "              count\n",
       "created_date       \n",
       "2018-01-31        5\n",
       "2018-02-28        1\n",
       "2018-03-31        2\n",
       "2018-04-30        2"
      ]
     },
     "execution_count": 10,
     "metadata": {},
     "output_type": "execute_result"
    }
   ],
   "source": [
    "monthly_df"
   ]
  },
  {
   "cell_type": "code",
   "execution_count": 11,
   "metadata": {},
   "outputs": [
    {
     "data": {
      "image/png": "[encoded data removed]",
      "text/plain": [
       "<Figure size 576x396 with 1 Axes>"
      ]
     },
     "metadata": {},
     "output_type": "display_data"
    }
   ],
   "source": [
    "plt.style.use('seaborn')\n",
    "monthly_df.plot(kind='bar', y='count', use_index=False)\n",
    "plt.title(\"New Committers\");"
   ]
  }
 ],
 "metadata": {
  "kernelspec": {
   "display_name": "Python 3",
   "language": "python",
   "name": "python3"
  },
  "language_info": {
   "codemirror_mode": {
    "name": "ipython",
    "version": 3
   },
   "file_extension": ".py",
   "mimetype": "text/x-python",
   "name": "python",
   "nbconvert_exporter": "python",
   "pygments_lexer": "ipython3",
   "version": "3.6.8"
  }
 },
 "nbformat": 4,
 "nbformat_minor": 2
}
