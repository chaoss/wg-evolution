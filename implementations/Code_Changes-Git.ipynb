{
 "cells": [
  {
   "cell_type": "markdown",
   "metadata": {},
   "source": [
    "[![Binder](https://mybinder.org/badge_logo.svg)](https://mybinder.org/v2/gh/chaoss/wg-gmd/master?filepath=implementations/Code_Changes-Git.ipynb)\n",
    "# Code_Changes-Git\n",
    "\n",
    "This is the reference implementation for Code_Changes,\n",
    "a metric specified by the\n",
    "[GMD Working Group](https://github.com/chaoss/wg-gmd) of the\n",
    "[CHAOSS project](https://chaoss.community).\n",
    "This implementation is specific to Git repositories.\n",
    "\n",
    "See [README.md](README.md) to find out how to run this notebook (and others in this directory).\n",
    "\n",
    "The implementation is described in two parts (see below):\n",
    "\n",
    "* Retrieving data from the data source\n",
    "* Class for computing Code_Changes\n",
    "\n",
    "Some more auxiliary information in this notebook:\n",
    "\n",
    "* Examples of the use of the implementation\n",
    "* Examples of how to check for specific peculiarities of git commits"
   ]
  },
  {
   "cell_type": "markdown",
   "metadata": {},
   "source": [
    "## Retrieving data from the data source\n",
    "\n",
    "From the command line run Perceval on the git repositories to analyze,\n",
    "to produce a file with JSON documents for all its commits,\n",
    "one per line (`git-commits.json`).\n",
    "\n",
    "As an example we will use the Perceval, SortingHat, and a fork of SortingHat\n",
    "git repositories:\n",
    "change it to get data from your preferred repositories\n",
    "(for example, you can use `https://github.com/elastic/elasticsearch-docker`\n",
    "or `https://github.com/git/git`):\n",
    "\n",
    "```\n",
    "$ perceval git --json-line http://github.com/chaoss/grimoirelab-perceval > git-commits.json\n",
    "[2019-01-28 21:05:45,461] - Sir Perceval is on his quest.\n",
    "[2019-01-28 21:05:48,229] - Fetching commits: 'http://github.com/chaoss/grimoirelab-perceval' git repository from 1970-01-01 00:00:00+00:00 to 2100-01-01 00:00:00+00:00; all branches\n",
    "[2019-01-28 21:05:49,727] - Fetch process completed: 1320 commits fetched\n",
    "[2019-01-28 21:05:49,728] - Sir Perceval completed his quest.\n",
    "$ perceval git --json-line http://github.com/chaoss/grimoirelab-sortinghat >> git-commits.json\n",
    "...\n",
    "[2019-01-28 21:07:27,169] - Fetch process completed: 635 commits fetched\n",
    "[2019-01-28 21:07:27,169] - Sir Perceval completed his quest.\n",
    "$ perceval git --json-line http://github.com/jgbarah-chaoss/grimoirelab-sortinghat >> git-commits.json\n",
    "...\n",
    "[2019-01-28 23:58:47,068] - Fetch process completed: 567 commits fetched\n",
    "[2019-01-28 23:58:47,068] - Sir Perceval completed his quest.\n",
    "```"
   ]
  },
  {
   "cell_type": "markdown",
   "metadata": {},
   "source": [
    "## Class for computing Code_Changes-Git\n",
    "\n",
    "This implementation uses data retrieved as described above.\n",
    "The implementation is encapsulated in the `Code_Changes` class,\n",
    "which gets all commits for a set of repositories."
   ]
  },
  {
   "cell_type": "code",
   "execution_count": 81,
   "metadata": {},
   "outputs": [],
   "source": [
    "import json\n",
    "import datetime\n",
    "\n",
    "import pandas as pd\n",
    "\n",
    "class Code_Changes:\n",
    "    \"\"\"Class for Code_Changes for Git repositories.\n",
    "    \n",
    "    Objects are instantiated by specifying a file with the\n",
    "    commits obtained by Perceval from a set of repositories.\n",
    "        \n",
    "    :param path: Path to file with one Perceval JSON document per line\n",
    "    \"\"\"\n",
    "\n",
    "    @staticmethod\n",
    "    def _summary(repo, cdata):\n",
    "        \"\"\"Compute a summary of a commit, suitable as a row in a dataframe\"\"\"\n",
    "        \n",
    "        summary = {\n",
    "            'repo': repo,\n",
    "            'hash': cdata['commit'],\n",
    "            'author': cdata['Author'],\n",
    "            'author_date': datetime.datetime.strptime(cdata['AuthorDate'],\n",
    "                                                      \"%a %b %d %H:%M:%S %Y %z\"),\n",
    "            'commit': cdata['Commit'],\n",
    "            'commit_date': datetime.datetime.strptime(cdata['CommitDate'],\n",
    "                                                      \"%a %b %d %H:%M:%S %Y %z\"),\n",
    "            'files_no': len(cdata['files'])\n",
    "        }\n",
    "        actions = 0\n",
    "        for file in cdata['files']:\n",
    "            if 'action' in file:\n",
    "                actions += 1\n",
    "        summary['files_action'] = actions\n",
    "        if 'Merge' in cdata:\n",
    "            summary['merge'] = True\n",
    "        else:\n",
    "            summary['merge'] = False\n",
    "        return summary;\n",
    "    \n",
    "    def __init__(self, path):\n",
    "        \"\"\"Initilizes self.df, the dataframe with one row per commit.\n",
    "        \"\"\"\n",
    "\n",
    "        self.df = pd.DataFrame(columns=['hash', 'author', 'author_date',\n",
    "                                        'commit', 'commit_date',\n",
    "                                        'files_no', 'files_action',\n",
    "                                        'merge'])\n",
    "        commits = []\n",
    "        with open(path) as commits_file:\n",
    "            for line in commits_file:\n",
    "                commit = json.loads(line)\n",
    "                commits.append(self._summary(repo=commit['origin'],\n",
    "                                             cdata=commit['data']))\n",
    "        self.df = self.df.append(commits, sort=False)\n",
    "        self.df['author_date'] = pd.to_datetime(self.df['author_date'], utc=True)\n",
    "        self.df['commit_date'] = pd.to_datetime(self.df['commit_date'], utc=True)\n",
    "        \n",
    "    def total_count(self):\n",
    "        \n",
    "        return len(self.df.index)\n",
    "    \n",
    "    def count(self, since = None, until = None, empty=True, merge=True, date='author_date'):\n",
    "        \"\"\"Count number of commits\n",
    "        \n",
    "        :param since: Period start\n",
    "        :param until: Period end\n",
    "        :param empty: Include empty commits\n",
    "        :param merge: Include merge commits\n",
    "        :param  date: Kind of date ('author_date' or 'commit_date')\n",
    "        \"\"\"\n",
    "        \n",
    "        df = self.df\n",
    "        if since:\n",
    "            df = df[df[date] >= since]\n",
    "        if until:\n",
    "            df = df[df[date] < until]\n",
    "        if not empty:\n",
    "            df = df[df['files_action'] != 0]\n",
    "        if not merge:\n",
    "            df = df[df['merge'] == False]\n",
    "        return df['hash'].nunique()\n",
    "    \n",
    "    def by_month(self):\n",
    "        \n",
    "        return self.df['author_date'] \\\n",
    "            .groupby([self.df.author_date.dt.year.rename('year'),\n",
    "                      self.df.author_date.dt.month.rename('month')]) \\\n",
    "            .agg('count')\n"
   ]
  },
  {
   "cell_type": "markdown",
   "metadata": {},
   "source": [
    "Method `count()` implements `Count` aggregation for `Code_Changes`.\n",
    "It accepts parameters specified for the general metric:\n",
    "    \n",
    "* Period of time: `since` and `until`\n",
    "\n",
    "It accepts parameters specified for the specific case of Git:\n",
    "    \n",
    "* Include merge commits: `merge`\n",
    "* Include empty commits: `empty`\n",
    "* Kind of date: `date`"
   ]
  },
  {
   "cell_type": "markdown",
   "metadata": {},
   "source": [
    "## Examples of use of the implementation"
   ]
  },
  {
   "cell_type": "code",
   "execution_count": 82,
   "metadata": {},
   "outputs": [
    {
     "name": "stdout",
     "output_type": "stream",
     "text": [
      "Code changes total count: 2522\n",
      "Code changes count all period: 1963\n",
      "Code changes count from 2018-01-01 to 2018-07-01: 437\n",
      "Code changes count from 2018-01-01 to 2018-07-01 (no merge commits): 317\n",
      "Code changes count from 2018-01-01 to 2018-07-01 (no empty commits): 317\n"
     ]
    }
   ],
   "source": [
    "changes = Code_Changes('git-commits.json')\n",
    "print(\"Code changes total count:\", changes.total_count())\n",
    "print(\"Code changes count all period:\", changes.count())\n",
    "print(\"Code changes count from 2018-01-01 to 2018-07-01:\",\n",
    "      changes.count(since=\"2018-01-01\", until=\"2018-07-01\"))\n",
    "print(\"Code changes count from 2018-01-01 to 2018-07-01 (no merge commits):\",\n",
    "      changes.count(since=\"2018-01-01\", until=\"2018-07-01\", merge=False))\n",
    "print(\"Code changes count from 2018-01-01 to 2018-07-01 (no empty commits):\",\n",
    "      changes.count(since=\"2018-01-01\", until=\"2018-07-01\", empty=False))"
   ]
  },
  {
   "cell_type": "markdown",
   "metadata": {},
   "source": [
    "## Examples showing peculiarities of git commits\n",
    "\n",
    "Let's prepare a dictionary, `commits`, with all commits retrieved,\n",
    "by reading the `commits-git.json` file."
   ]
  },
  {
   "cell_type": "code",
   "execution_count": 83,
   "metadata": {},
   "outputs": [
    {
     "name": "stdout",
     "output_type": "stream",
     "text": [
      "Total number of commits: 1963\n"
     ]
    }
   ],
   "source": [
    "import json\n",
    "\n",
    "commits = {}\n",
    "with open('git-commits.json') as commits_file:\n",
    "    for line in commits_file:\n",
    "        commit = json.loads(line)\n",
    "        commits[commit['data']['commit']] = commit\n",
    "print(\"Total number of commits:\", len(commits))"
   ]
  },
  {
   "cell_type": "markdown",
   "metadata": {},
   "source": [
    "### Naive count of commits\n",
    "\n",
    "Let's compute number of commits the easiest way: just count all commits:"
   ]
  },
  {
   "cell_type": "code",
   "execution_count": 84,
   "metadata": {},
   "outputs": [
    {
     "name": "stdout",
     "output_type": "stream",
     "text": [
      "Code Commits (naive): 1963\n"
     ]
    }
   ],
   "source": [
    "code_commits = len(commits)\n",
    "print(\"Code Commits (naive):\", code_commits)"
   ]
  },
  {
   "cell_type": "markdown",
   "metadata": {},
   "source": [
    "### Ignoring empty commits\n",
    "\n",
    "Empty commits are those that touch no file (for example, most merge commits). We can find them by looking at the list of files involved in the commit, and checking that all of them have no 'action' field ('action' is for identifying the action performed on the file, such as modification or creation):"
   ]
  },
  {
   "cell_type": "code",
   "execution_count": 85,
   "metadata": {},
   "outputs": [
    {
     "name": "stdout",
     "output_type": "stream",
     "text": [
      "Code Commits (non-empty): 1615\n"
     ]
    }
   ],
   "source": [
    "code_commits = 0\n",
    "for commit in commits.values():\n",
    "    for file in commit['data']['files']:\n",
    "        if 'action' in file:\n",
    "            code_commits += 1\n",
    "            break\n",
    "                \n",
    "print(\"Code Commits (non-empty):\", code_commits)"
   ]
  },
  {
   "cell_type": "markdown",
   "metadata": {},
   "source": [
    "### Only non-merge commits\n",
    "\n",
    "Now, instead of filtering out empty commits, let's filter those commits that are merge commits. Those involve no real coding, but merging commits in different branches (for example, after a pull request)."
   ]
  },
  {
   "cell_type": "code",
   "execution_count": 86,
   "metadata": {},
   "outputs": [
    {
     "name": "stdout",
     "output_type": "stream",
     "text": [
      "Code Commits (non-merge): 1615\n"
     ]
    }
   ],
   "source": [
    "code_commits = 0\n",
    "for commit in commits.values():\n",
    "    if 'Merge' not in commit['data']:\n",
    "        code_commits += 1\n",
    "                \n",
    "print(\"Code Commits (non-merge):\", code_commits)"
   ]
  },
  {
   "cell_type": "markdown",
   "metadata": {},
   "source": [
    "### Only commits in master\n",
    "\n",
    "In this case, we will consider only commits in the master branch:"
   ]
  },
  {
   "cell_type": "code",
   "execution_count": 87,
   "metadata": {},
   "outputs": [
    {
     "name": "stdout",
     "output_type": "stream",
     "text": [
      "Code Commits (master branch): 1913\n"
     ]
    }
   ],
   "source": [
    "# Find commits in master branch.\n",
    "# Start by adding head to an empty todo list. Then loop until todo set is empty:\n",
    "# for each commit in the todo list, add it to the master set, and go backwards\n",
    "# (finding parents), adding them to the todo set.\n",
    "\n",
    "todo = set()\n",
    "for id, commit in commits.items():\n",
    "    if 'HEAD -> refs/heads/master' in commit['data']['refs']:\n",
    "        todo.add(id)\n",
    "\n",
    "master = set()\n",
    "while len(todo) > 0:\n",
    "    current = todo.pop()\n",
    "    master.add(current)\n",
    "    for parent in commits[current]['data']['parents']:\n",
    "        if parent not in master:\n",
    "            todo.add(parent)\n",
    "    \n",
    "code_commits = len(master)\n",
    "    \n",
    "print(\"Code Commits (master branch):\", code_commits)"
   ]
  },
  {
   "cell_type": "markdown",
   "metadata": {},
   "source": [
    "### Only non-empty commits in master\n",
    "\n",
    "Now, let's consider only those non-empty commits that you can find in the master branch. Run the next snippet after running the previous one, so that master has the right collection of commits."
   ]
  },
  {
   "cell_type": "code",
   "execution_count": 88,
   "metadata": {
    "scrolled": true
   },
   "outputs": [
    {
     "name": "stdout",
     "output_type": "stream",
     "text": [
      "Code Commits (non-empty in master branch): 1572\n"
     ]
    }
   ],
   "source": [
    "code_commits = 0\n",
    "for commit_id in master:\n",
    "        commit = commits[commit_id]\n",
    "        for file in commit['data']['files']:\n",
    "            if 'action' in file:\n",
    "                code_commits += 1\n",
    "                break\n",
    "\n",
    "print(\"Code Commits (non-empty in master branch):\", code_commits)"
   ]
  }
 ],
 "metadata": {
  "kernelspec": {
   "display_name": "Python 3",
   "language": "python",
   "name": "python3"
  },
  "language_info": {
   "codemirror_mode": {
    "name": "ipython",
    "version": 3
   },
   "file_extension": ".py",
   "mimetype": "text/x-python",
   "name": "python",
   "nbconvert_exporter": "python",
   "pygments_lexer": "ipython3",
   "version": "3.6.7"
  }
 },
 "nbformat": 4,
 "nbformat_minor": 2
}
