{
 "cells": [
  {
   "cell_type": "markdown",
   "metadata": {},
   "source": [
    "## Reviews_Accepted\n",
    "This is the reference implementation for [Reviews Accepted](https://github.com/chaoss/wg-evolution/blob/master/metrics/Reviews_Accepted.md),\n",
    "a metric specified by the\n",
    "[Evolution Working Group](https://github.com/chaoss/wg-evolution) of the\n",
    "[CHAOSS project](https://chaoss.community).\n",
    "This implementation is specific to Git repositories.\n",
    "\n",
    "Have a look at [README.md](../README.md) to find out how to run this notebook (and others in this directory) as well as to get a better understanding of the purpose of the implementations.\n",
    "\n",
    "The implementation is described in two parts (see below):\n",
    "\n",
    "* Class for computing Reviews Accepted\n",
    "* An explanatory analysis of the class' functionality\n",
    "\n",
    "Some more auxiliary information in this notebook:\n",
    "\n",
    "* Examples of the use of the implementation"
   ]
  },
  {
   "cell_type": "markdown",
   "metadata": {},
   "source": [
    "As discussed in the [README](../README.md) file, the scripts required to analyze the data fetched by Perceval are located in the `code_df` package. Due to python's import system, to import modules from a package which is not in the current directory, we have to either add the package to `PYTHONPATH` or simply append a `..` to `sys.path`, so that `code_df` can be successfully imported. "
   ]
  },
  {
   "cell_type": "code",
   "execution_count": 1,
   "metadata": {},
   "outputs": [],
   "source": [
    "from datetime import datetime\n",
    "import matplotlib.pyplot as plt\n",
    "import sys\n",
    "sys.path.append('..')\n",
    "from scripts import utils\n",
    "from scripts import conditions\n",
    "from scripts.pullrequest_github import PullRequestGitHub\n",
    "%matplotlib inline"
   ]
  },
  {
   "cell_type": "code",
   "execution_count": 2,
   "metadata": {},
   "outputs": [],
   "source": [
    "class ReviewsAccepted(PullRequestGitHub):\n",
    "    \"\"\"\n",
    "    Class for Reviews Accepted\n",
    "    \"\"\"\n",
    "\n",
    "    def compute(self):\n",
    "        \"\"\"\n",
    "        Compute the total number of reviews which were accepted, from\n",
    "        the Perceval data.\n",
    "\n",
    "        :returns: The total number of reviews accepted\n",
    "        \"\"\"\n",
    "\n",
    "        pull_ids = {item['hash'] for item in self.items\n",
    "                    if item['merged'] is True}\n",
    "\n",
    "        return len(pull_ids)"
   ]
  },
  {
   "cell_type": "markdown",
   "metadata": {},
   "source": [
    "## Performing the Analysis\n",
    "Lets perform two kinds of analysis here:\n",
    "- computing the number of reviews accepted in a given period"
   ]
  },
  {
   "cell_type": "markdown",
   "metadata": {},
   "source": [
    "### Counting the total number of reviews accepted\n",
    "We first read the JSON file containing Perceval data using the `read_json_file` utility function. "
   ]
  },
  {
   "cell_type": "code",
   "execution_count": 3,
   "metadata": {},
   "outputs": [],
   "source": [
    "items = utils.read_json_file('../pull_requests.json')"
   ]
  },
  {
   "cell_type": "markdown",
   "metadata": {},
   "source": [
    "Let's use the `compute` method to count the total number of accepted reviews. First, we will do it without passing any since and until dates. \n",
    "Next, we can pass in the start and end dates as a tuple. The format would be `%Y-%m-%d`.\n",
    "Let's also find the number of accepted reviews created after a certain date. Here, we would pass a valid `datetime` object for the `since` part of `date_range`, leaving the `until` part as `None`."
   ]
  },
  {
   "cell_type": "code",
   "execution_count": 4,
   "metadata": {},
   "outputs": [
    {
     "name": "stdout",
     "output_type": "stream",
     "text": [
      "The total number of reviews accepted in the data is 201.\n",
      "The total number of reviews created between 2018-01-01 and 2018-07-01 that were accepted is 37.\n",
      "The total number of reviews created after 2018-01-01  that were accepted is 57.\n"
     ]
    }
   ],
   "source": [
    "reviews_accepted = ReviewsAcceptedGitHub(items)\n",
    "print(\"The total number of reviews accepted \"\n",
    "      \"in the data is {}.\".format(reviews_accepted.compute()))\n",
    "\n",
    "date_since = datetime.strptime(\"2018-01-01\", \"%Y-%m-%d\")\n",
    "date_until = datetime.strptime(\"2018-07-01\", \"%Y-%m-%d\")    \n",
    "\n",
    "reviews_accepted_dated = ReviewsAcceptedGitHub(items,\n",
    "                        date_range=(date_since, date_until))\n",
    "                        \n",
    "print(\"The total number of reviews created between \"\n",
    "      \"2018-01-01 and 2018-07-01 that were accepted is {}.\".format(reviews_accepted_dated.compute()))\n",
    "\n",
    "reviews_accepted_since = ReviewsAcceptedGitHub(items,\n",
    "                        date_range=(date_since, None))\n",
    "                        \n",
    "print(\"The total number of reviews created after \"\n",
    "      \"2018-01-01  that were accepted is {}.\".format(reviews_accepted_since.compute()))"
   ]
  }
 ],
 "metadata": {
  "kernelspec": {
   "display_name": "Python 3",
   "language": "python",
   "name": "python3"
  },
  "language_info": {
   "codemirror_mode": {
    "name": "ipython",
    "version": 3
   },
   "file_extension": ".py",
   "mimetype": "text/x-python",
   "name": "python",
   "nbconvert_exporter": "python",
   "pygments_lexer": "ipython3",
   "version": "3.6.8"
  }
 },
 "nbformat": 4,
 "nbformat_minor": 2
}
