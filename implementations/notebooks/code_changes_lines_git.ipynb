{
 "cells": [
  {
   "cell_type": "markdown",
   "metadata": {},
   "source": [
    "## Code_Changes_Lines\n",
    "This is the reference implementation for [Code_Changes_Lines](https://github.com/chaoss/wg-evolution/blob/master/metrics/Code_Changes_Lines.md),\n",
    "a metric specified by the\n",
    "[Evolution Working Group](https://github.com/chaoss/wg-evolution) of the\n",
    "[CHAOSS project](https://chaoss.community).\n",
    "\n",
    "Have a look at [README.md](../README.md) to find out how to run this notebook (and others in this directory) as well as to get a better understanding of the purpose of the implementations.\n",
    "\n",
    "The implementation is described in two parts (see below):\n",
    "\n",
    "* Class for computing Code_Changes_Lines\n",
    "* An explanatory analysis of the class' functionality\n",
    "\n",
    "Some more auxiliary information in this notebook:\n",
    "\n",
    "* Examples of the use of the implementation"
   ]
  },
  {
   "cell_type": "markdown",
   "metadata": {},
   "source": [
    "As discussed in the [README](../README.md) file, the scripts required to analyze the data fetched by Perceval are located in the `scripts` package. Due to python's import system, to import modules from a package which is not in the current directory, we have to either add the package to `PYTHONPATH` or simply append a `..` to `sys.path`, so that `scripts` can be successfully imported. "
   ]
  },
  {
   "cell_type": "code",
   "execution_count": 1,
   "metadata": {},
   "outputs": [],
   "source": [
    "from datetime import datetime\n",
    "import sys\n",
    "sys.path.append('..')\n",
    "\n",
    "from scripts import utils\n",
    "from scripts import conditions\n",
    "from scripts.commit_git import CommitGit"
   ]
  },
  {
   "cell_type": "code",
   "execution_count": 2,
   "metadata": {},
   "outputs": [],
   "source": [
    "class CodeChangesLinesGit(CommitGit):\n",
    "    \"\"\"\n",
    "    Class for Code_Changes_Lines for Git repositories\n",
    "    with a non-pandas approach.\n",
    "    \"\"\"\n",
    "\n",
    "    def _flatten(self, item):\n",
    "        \"\"\"\n",
    "        Flatten a raw commit fetched by Perceval into a flat dictionary.\n",
    "\n",
    "        A list with a single flat directory will be returned.\n",
    "        That dictionary will have the elements we need for computing metrics.\n",
    "        The list may be empty, if for some reason the commit should not\n",
    "        be considered.\n",
    "\n",
    "        :param item: raw item fetched by Perceval (dictionary)\n",
    "        :returns:    list of a single flat dictionary\n",
    "        \"\"\"\n",
    "\n",
    "        creation_date = utils.str_to_date(item['data']['AuthorDate'])\n",
    "        if self.since and (self.since > creation_date):\n",
    "            return []\n",
    "\n",
    "        if self.until and (self.until < creation_date):\n",
    "            return []\n",
    "\n",
    "        code_files = [file['file'] for file in item['data']['files'] if\n",
    "                      all(condition.check(file['file'])\n",
    "                          for condition in self.is_code)]\n",
    "\n",
    "        if len(code_files) > 0:\n",
    "            flat = {\n",
    "                'repo': item['origin'],\n",
    "                'hash': item['data']['commit'],\n",
    "                'author': item['data']['Author'],\n",
    "                'category': \"commit\",\n",
    "                'created_date': creation_date,\n",
    "                'committer': item['data']['Commit'],\n",
    "                'commit_date': utils.str_to_date(item['data']['CommitDate']),\n",
    "                'files_no': len(item['data']['files']),\n",
    "                'refs': item['data']['refs'],\n",
    "                'parents': item['data']['parents'],\n",
    "                'files': item['data']['files']\n",
    "            }\n",
    "\n",
    "            # actions\n",
    "            actions = 0\n",
    "            for file in item['data']['files']:\n",
    "                if 'action' in file:\n",
    "                    actions += 1\n",
    "            flat['files_action'] = actions\n",
    "\n",
    "            # Merge commit check\n",
    "            if 'Merge' in item['data']:\n",
    "                flat['merge'] = True\n",
    "            else:\n",
    "                flat['merge'] = False\n",
    "\n",
    "            # modifications\n",
    "            modified_lines = 0\n",
    "            for file in item['data']['files']:\n",
    "                if 'added' and 'removed' in file:\n",
    "                    try:\n",
    "                        modified_lines += int(file['added']) + int(file['removed'])\n",
    "\n",
    "                    except ValueError:\n",
    "                        # in case of compressed files,\n",
    "                        # additions and deletions are \"-\"\n",
    "                        pass\n",
    "\n",
    "            flat['modifications'] = modified_lines\n",
    "\n",
    "            return [flat]\n",
    "        else:\n",
    "            return []\n",
    "\n",
    "    def compute(self):\n",
    "        \"\"\"\n",
    "        Compute the number of lines modified in the data fetched\n",
    "        by Perceval.\n",
    "\n",
    "        It computes the sum of the 'modifications' key\n",
    "        in the dictionary.\n",
    "\n",
    "        :returns modifications_count: The total number of\n",
    "            lines modified (int)\n",
    "        \"\"\"\n",
    "\n",
    "        modifications_count = 0\n",
    "        for item in self.items:\n",
    "            modifications_count += item['modifications']\n",
    "\n",
    "        return modifications_count"
   ]
  },
  {
   "cell_type": "markdown",
   "metadata": {},
   "source": [
    "## Performing the Analysis\n",
    "Using the above class, we can perform several kinds of analysis on the JSON data file, fetched by Perceval. \n",
    "For starters, we can perform a simple calculation of the number of modified lines (additions plus deletions) in the file. To make things simple, we will use the `Naive` implementation for deciding whether a given commit affects the source code or not. Again, the naive implementation assumes that all files are part of the source code, and hence, all commits are considered to affect it. The `Naive` implementation is the default option. "
   ]
  },
  {
   "cell_type": "markdown",
   "metadata": {},
   "source": [
    "### Counting the total number of modified lines \n",
    "We first read the JSON file containing Perceval data using the `read_json_file` utility function. "
   ]
  },
  {
   "cell_type": "code",
   "execution_count": 3,
   "metadata": {},
   "outputs": [],
   "source": [
    "items = utils.read_json_file('../git-commits.json')"
   ]
  },
  {
   "cell_type": "markdown",
   "metadata": {},
   "source": [
    "Let's use the `compute` method to count the total number of lines modified after instantiating the above class.\n",
    "\n",
    "Notice that here, we are redefining the `_flatten` method of the `CommitGit` class, the parent of the `CodeChangesLinesGit` class. The reason for doing this is to add a `modifications` key to the dictionary. This makes it easier to compute this metric.\n",
    "\n",
    "First, we will do the computation without passing any since and until dates. Next, we can pass in the start and end dates as a tuple. The format would be `%Y-%m-%d`."
   ]
  },
  {
   "cell_type": "code",
   "execution_count": 4,
   "metadata": {},
   "outputs": [
    {
     "name": "stdout",
     "output_type": "stream",
     "text": [
      "The total number of modified lines in the file is 563670.\n",
      "The total number of lines modified between 2018-01-01 and 2018-07-01 is 192972.\n"
     ]
    }
   ],
   "source": [
    "changes = CodeChangesLinesGit(items)\n",
    "print(\"The total number of modified lines \"\n",
    "      \"in the file is {}.\".format(changes.compute()))\n",
    "\n",
    "date_since = datetime.strptime(\"2018-01-01\", \"%Y-%m-%d\")\n",
    "date_until = datetime.strptime(\"2018-07-01\", \"%Y-%m-%d\")    \n",
    "\n",
    "changes_dated = CodeChangesLinesGit(items,\n",
    "                        date_range=(date_since, date_until))\n",
    "                        \n",
    "print(\"The total number of lines modified between \"\n",
    "      \"2018-01-01 and 2018-07-01 is {}.\".format(changes_dated.compute()))"
   ]
  },
  {
   "cell_type": "markdown",
   "metadata": {},
   "source": [
    "### Counting the total number of lines modified by commits excluding merge commits\n",
    "Moving on, lets make use of the `EmptyExclude` and `MergeExclude` classes to filter out empty and merge commits respectively. These classes are sub-classes of the `CommitGit` class in the `conditions` module. They provide two methods: `check()` and `set_commits`.\n",
    "\n",
    "The `set_commits` method selects commits which satisfy a given condition (like excluding empty commits, for example) and stores the hashes of those commits in the set `included`, an instance variable of all `Commit` classes. \n",
    "\n",
    "The `check()` method checks each commit in the dictionary created from Perceval data and removes those commits which correspond to commits not in `included`. "
   ]
  },
  {
   "cell_type": "code",
   "execution_count": 5,
   "metadata": {},
   "outputs": [
    {
     "name": "stdout",
     "output_type": "stream",
     "text": [
      "The total number of lines modified by non-merge commits between 2018-01-01 and 2018-07-01 is 94047.\n"
     ]
    }
   ],
   "source": [
    "changes_non_merge = CodeChangesLinesGit(items, \n",
    "                                  (date_since, date_until),\n",
    "                                  conds=[conditions.MergeExclude()])\n",
    "print(\"The total number of lines modified by non-merge commits between\"\n",
    "      \" 2018-01-01 and 2018-07-01 is {}.\".format(changes_non_merge.compute()))"
   ]
  },
  {
   "cell_type": "markdown",
   "metadata": {},
   "source": [
    "## Counting line modifications by commits only made on the master branch\n",
    "Another option one has while using this class for analyzing git commit data is to include only those commits for analysis which are on the master branch. To do this, we pass in an object of the `MasterInclude` class as a list to the `conds` parameter while instantiating the `CodeChangesLinesGit` class.\n",
    "\n",
    "We compute the number of commits created on the master branch after `2018-01-01`, which we stored in the `datetime` object, `date_since`. "
   ]
  },
  {
   "cell_type": "code",
   "execution_count": 6,
   "metadata": {},
   "outputs": [
    {
     "name": "stdout",
     "output_type": "stream",
     "text": [
      "The total number of lines modified (additions, deletions) by commits made on the master branch after 2018-01-01 is 215191.\n"
     ]
    }
   ],
   "source": [
    "changes_only_master = CodeChangesLinesGit(items,\n",
    "                                    date_range=(date_since, None),\n",
    "                                    conds=[conditions.MasterInclude()])\n",
    "\n",
    "print(\"The total number of lines modified (additions, deletions) by commits made on the master branch \"\n",
    "      \"after 2018-01-01 is {}.\".format(changes_only_master.compute()))"
   ]
  },
  {
   "cell_type": "markdown",
   "metadata": {},
   "source": [
    "Lets do one last thing: the same thing we did in the cell above, but without including empty commits. In this case, we would also need to pass a `conditions.ExcludeEmpty` object to `conds`. \n",
    "\n",
    "Also, lets exclude those commits which work solely on `markdown` files. We use the `PostfixExclude` class, a sub-class of `Code` for this."
   ]
  },
  {
   "cell_type": "code",
   "execution_count": 7,
   "metadata": {},
   "outputs": [
    {
     "name": "stdout",
     "output_type": "stream",
     "text": [
      "The total number of lines modified by non-empty commits made on the master branch is: 9226\n"
     ]
    }
   ],
   "source": [
    "changes_non_empty_master = CodeChangesLinesGit(items,\n",
    "                                          is_code=[conditions.PostfixExclude(postfixes=['.md'])],\n",
    "                                          conds=[conditions.MasterInclude(), conditions.EmptyExclude()])\n",
    "\n",
    "print(\"The total number of lines modified by non-empty commits made on the master branch is: {}\".format(changes_non_empty_master.compute()))"
   ]
  }
 ],
 "metadata": {
  "kernelspec": {
   "display_name": "Python 3",
   "language": "python",
   "name": "python3"
  },
  "language_info": {
   "codemirror_mode": {
    "name": "ipython",
    "version": 3
   },
   "file_extension": ".py",
   "mimetype": "text/x-python",
   "name": "python",
   "nbconvert_exporter": "python",
   "pygments_lexer": "ipython3",
   "version": "3.6.8"
  }
 },
 "nbformat": 4,
 "nbformat_minor": 2
}
